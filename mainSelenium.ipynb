{
 "cells": [
  {
   "cell_type": "code",
   "execution_count": 217,
   "metadata": {},
   "outputs": [],
   "source": [
    "#Para la manipulación de datos\n",
    "import pandas as pd\n",
    "\n",
    "#Servicio y driver de Chrome de Selenium\n",
    "from selenium import webdriver\n",
    "from selenium.webdriver.chrome.service import Service\n",
    "from webdriver_manager.chrome import ChromeDriverManager\n",
    "\n",
    "#Las opciones que vamos a tener para buscar elementos\n",
    "from selenium.webdriver.common.by import By\n",
    "\n",
    "#Para cuando queramos mandar pulsaciones de teclado\n",
    "from selenium.webdriver.common.keys import Keys\n",
    "\n",
    "#Hacemos que espere\n",
    "import time\n",
    "\n",
    "# Para generar números aleatorios\n",
    "import random\n",
    "\n"
   ]
  },
  {
   "cell_type": "code",
   "execution_count": null,
   "metadata": {},
   "outputs": [],
   "source": [
    "# 1. Abre navegador en blanco\n",
    "service = Service(ChromeDriverManager().install())\n",
    "driver = webdriver.Chrome(service=service)\n",
    "\n",
    "# 2. Abrimos web mercadona\n",
    "url_mercadona =\"https://tienda.mercadona.es/categories/\"\n",
    "driver.get(url_mercadona)\n",
    "\n",
    "# Buscamos por clase el campo de input para poder introducir nuestro código postal\n",
    "input = driver.find_element(By.CLASS_NAME,\"ym-hide-content\")\n",
    "\n",
    "# Introducimos el código postal\n",
    "input.send_keys(\"28016\")\n",
    "\n",
    "# Esperamos unos segundillos\n",
    "time.sleep(round(random.uniform(0.5,3),1))\n",
    "\n",
    "# Le damos a ENTER\n",
    "input.send_keys(Keys.ENTER)   #driver.find_element_by_id(\"submit\").click()\n",
    "\n",
    "# Necesario un time.sleep?\n",
    "time.sleep(3)\n",
    "\n",
    "# Aceptamos cookies\n",
    "cookies = driver.find_element(By.CLASS_NAME,\"ui-button.ui-button--small.ui-button--primary.ui-button--positive\")\n",
    "cookies.send_keys(Keys.ENTER)\n",
    "\n"
   ]
  },
  {
   "cell_type": "code",
   "execution_count": 303,
   "metadata": {},
   "outputs": [],
   "source": [
    "categories_length = len(driver.find_elements(By.CLASS_NAME,\"category-menu__item\"))+1\n",
    "categories_range = range(1,3)\n",
    "\n",
    "categories = []\n",
    "\n",
    "for num in categories_range:\n",
    "    \n",
    "    # Nivel 1 => CATEGORÍAS:\n",
    "    header_a_pinchar = driver.find_elements(By.CSS_SELECTOR,f\"#root > div.grid-layout > div.grid-layout__sidebar > ul > li:nth-child({num}) > div > button\")    \n",
    "    categories.append(header_a_pinchar[0].text)\n",
    "    header_a_pinchar[0].click()\n",
    "    time.sleep(round(random.uniform(0.5,3),1))\n",
    "\n",
    "    # Nivel 2 => SUB-CATEGORÍAS:\n",
    "    sub_category_length = len(driver.find_elements(By.CSS_SELECTOR,\"#root > div.grid-layout > div.grid-layout__sidebar > ul > li.category-menu__item.open > div > ul\")[0].text.split(\"\\n\"))+1\n",
    "    number_of_sub_headers = range(1,sub_category_length)\n",
    "\n",
    "    # Recorre todos los botones dentro de la categoría en la que te encuentras\n",
    "    for i in number_of_sub_headers:\n",
    "\n",
    "        sub_header_button = driver.find_elements(By.CSS_SELECTOR,f\"#root > div.grid-layout > div.grid-layout__sidebar > ul > li.category-menu__item.open > div > ul > li:nth-child({i}) > button\")\n",
    "        sub_header_button[0].click()\n",
    "        time.sleep(1)\n",
    "\n",
    "\n",
    "\n",
    "\n"
   ]
  },
  {
   "cell_type": "code",
   "execution_count": 162,
   "metadata": {},
   "outputs": [
    {
     "name": "stdout",
     "output_type": "stream",
     "text": [
      "['Aceite, especias y salsas', 'Agua y refrescos', 'Aperitivos', 'Arroz, legumbres y pasta', 'Azúcar, caramelos y chocolate', 'Bebé', 'Bodega', 'Cacao, café e infusiones', 'Carne', 'Cereales y galletas', 'Charcutería y quesos', 'Congelados', 'Conservas, caldos y cremas', 'Cuidado del cabello', 'Cuidado facial y corporal', 'Fitoterapia y parafarmacia', 'Fruta y verdura', 'Huevos, leche y mantequilla', 'Limpieza y hogar', 'Maquillaje', 'Marisco y pescado', 'Mascotas', 'Panadería y pastelería', 'Pizzas y platos preparados', 'Postres y yogures', 'Zumos']\n",
      "Tenemos 26 categorias\n"
     ]
    }
   ],
   "source": [
    "# Iteramos sobre el menu:\n",
    "menu_alimentos = driver.find_elements(By.CLASS_NAME,\"category-menu__header\")\n",
    "\n",
    "categorias = []\n",
    "\n",
    "# Cogemos todas las categorías que tiene la página web.\n",
    "# Si mañana se modifica/añade/elimina categoría queremos que siempre se pueda recorrer\n",
    "for menu in menu_alimentos:\n",
    "    categorias.append(menu.text)\n",
    "    botones = driver.find_element(By.TAG_NAME, \"button\")\n",
    "\n",
    "print(categorias)\n",
    "print(\"Tenemos\",len(categorias),\"categorias\")"
   ]
  },
  {
   "cell_type": "code",
   "execution_count": 214,
   "metadata": {},
   "outputs": [
    {
     "name": "stdout",
     "output_type": "stream",
     "text": [
      "26\n"
     ]
    }
   ],
   "source": [
    "headers = driver.find_elements(By.CLASS_NAME,\"category-menu__item\")\n",
    "\n",
    "print(len(headers))"
   ]
  },
  {
   "cell_type": "code",
   "execution_count": 261,
   "metadata": {},
   "outputs": [
    {
     "name": "stdout",
     "output_type": "stream",
     "text": [
      "[['Aceite, vinagre y sal', 'Especias', 'Mayonesa, ketchup y mostaza', 'Otras salsas'], ['Agua', 'Isotónico y energético', 'Refresco de cola', 'Refresco de naranja y de limón', 'Tónica y bitter', 'Refresco de té y sin gas']]\n"
     ]
    }
   ],
   "source": [
    "# Pincha sobre todos los headers de categorías\n",
    "\n",
    "#root > div.grid-layout > divgrid-layout__sidebar > ul > li:nth-child(26)\n",
    "\n",
    "# Total categories length:\n",
    "total_categories_length = len(driver.find_elements(By.CLASS_NAME,\"category-menu__item\"))\n",
    "numero_headers = range(1,3)\n",
    "\n",
    "categorias = []\n",
    "sub_categorias = []\n",
    "\n",
    "\n",
    "for num in numero_headers:\n",
    "    \n",
    "    header_a_pinchar = driver.find_elements(By.CSS_SELECTOR,f\"#root > div.grid-layout > div.grid-layout__sidebar > ul > li:nth-child({num}) > div > button\")\n",
    "\n",
    "    # CATEGORÍAS:\n",
    "    categorias.append(header_a_pinchar[0].text)\n",
    "    header_a_pinchar[0].click()\n",
    "\n",
    "    # SUB_HEADERS:\n",
    "    selection = driver.find_elements(By.CSS_SELECTOR,\"#root > div.grid-layout > div.grid-layout__sidebar > ul > li.category-menu__item.open > div > ul\")\n",
    "\n",
    "    selection[0].click()\n",
    "    time.sleep(round(random.uniform(0.5,3),1))\n",
    "    sub_categorias.append(selection[0].text.split('\\n'))\n",
    "\n",
    "\n",
    "    time.sleep(round(random.uniform(0.5,3),1))\n",
    "\n",
    "print(sub_categorias)"
   ]
  },
  {
   "cell_type": "code",
   "execution_count": 264,
   "metadata": {},
   "outputs": [
    {
     "name": "stdout",
     "output_type": "stream",
     "text": [
      "Aceite, vinagre y sal\n"
     ]
    },
    {
     "data": {
      "text/plain": [
       "['Aceite, vinagre y sal',\n",
       " 'Especias',\n",
       " 'Mayonesa, ketchup y mostaza',\n",
       " 'Otras salsas']"
      ]
     },
     "execution_count": 264,
     "metadata": {},
     "output_type": "execute_result"
    }
   ],
   "source": [
    "#root > div.grid-layout > div.grid-layout__sidebar > ul > li.category-menu__item.open > div > ul\n",
    "\n",
    "\n",
    "selection = driver.find_elements(By.CSS_SELECTOR,\"#root > div.grid-layout > div.grid-layout__sidebar > ul > li.category-menu__item.open > div > ul\")\n",
    "sub_button = driver.find_elements(By.CSS_SELECTOR, \"#root > div.grid-layout > div.grid-layout__sidebar > ul > li.category-menu__item.open > div > ul > li.subhead1-r.category-item.category-item--selected > button\")\n",
    "\n",
    "print(sub_button[0].text)\n",
    "sub_button[1].click()\n",
    "\n",
    "selection[0].text.split('\\n')\n",
    "\n",
    "\n"
   ]
  },
  {
   "cell_type": "code",
   "execution_count": 301,
   "metadata": {},
   "outputs": [
    {
     "name": "stdout",
     "output_type": "stream",
     "text": [
      "1\n",
      "2\n",
      "3\n",
      "4\n",
      "5\n"
     ]
    }
   ],
   "source": [
    "\n",
    "category_opened_array = driver.find_elements(By.CSS_SELECTOR,\"#root > div.grid-layout > div.grid-layout__sidebar > ul > li.category-menu__item.open > div > ul\")\n",
    "\n",
    "category_opened_array_length = len(category_opened_array[0].text.split(\"\\n\"))\n",
    "\n",
    "number_of_sub_headers = range(1,category_opened_array_length+1)\n",
    "\n",
    "\n",
    "# Recorre todos los botones dentro de las categorías.\n",
    "sub_header_button = driver.find_elements(By.CSS_SELECTOR,\"#root > div.grid-layout > div.grid-layout__sidebar > ul > li.category-menu__item.open > div > ul > li:nth-child(1) > button\")\n",
    "\n",
    "for i in number_of_sub_headers:\n",
    "\n",
    "    sub_header_button = driver.find_elements(By.CSS_SELECTOR,f\"#root > div.grid-layout > div.grid-layout__sidebar > ul > li.category-menu__item.open > div > ul > li:nth-child({i}) > button\")\n",
    "    sub_header_button[0].click()\n",
    "    time.sleep(1)\n"
   ]
  },
  {
   "cell_type": "code",
   "execution_count": 258,
   "metadata": {},
   "outputs": [
    {
     "ename": "WebDriverException",
     "evalue": "Message: disconnected: not connected to DevTools\n  (failed to check if window was closed: disconnected: not connected to DevTools)\n  (Session info: chrome=110.0.5481.177)\nStacktrace:\n0   chromedriver                        0x0000000104f4f138 chromedriver + 4923704\n1   chromedriver                        0x0000000104ec79d3 chromedriver + 4368851\n2   chromedriver                        0x0000000104b10787 chromedriver + 472967\n3   chromedriver                        0x0000000104af5f48 chromedriver + 364360\n4   chromedriver                        0x0000000104af75ec chromedriver + 370156\n5   chromedriver                        0x0000000104af7544 chromedriver + 369988\n6   chromedriver                        0x0000000104ae4f7e chromedriver + 294782\n7   chromedriver                        0x0000000104ae5ec4 chromedriver + 298692\n8   chromedriver                        0x0000000104b89680 chromedriver + 968320\n9   chromedriver                        0x0000000104b7df78 chromedriver + 921464\n10  chromedriver                        0x0000000104b44a4b chromedriver + 686667\n11  chromedriver                        0x0000000104b46044 chromedriver + 692292\n12  chromedriver                        0x0000000104f1a8fe chromedriver + 4708606\n13  chromedriver                        0x0000000104f1fe22 chromedriver + 4730402\n14  chromedriver                        0x0000000104f286bf chromedriver + 4765375\n15  chromedriver                        0x0000000104f20e80 chromedriver + 4734592\n16  chromedriver                        0x0000000104ef1975 chromedriver + 4540789\n17  chromedriver                        0x0000000104f42e78 chromedriver + 4873848\n18  chromedriver                        0x0000000104f42ff5 chromedriver + 4874229\n19  chromedriver                        0x0000000104f576de chromedriver + 4957918\n20  libsystem_pthread.dylib             0x00007ff80cf1d514 _pthread_start + 125\n21  libsystem_pthread.dylib             0x00007ff80cf1902f thread_start + 15\n",
     "output_type": "error",
     "traceback": [
      "\u001b[0;31m---------------------------------------------------------------------------\u001b[0m",
      "\u001b[0;31mWebDriverException\u001b[0m                        Traceback (most recent call last)",
      "\u001b[0;32m/var/folders/j0/w6j4gtqn3qgbyxvxzx172r_m0000gn/T/ipykernel_14667/394459057.py\u001b[0m in \u001b[0;36m<module>\u001b[0;34m\u001b[0m\n\u001b[1;32m      1\u001b[0m \u001b[0;31m# Intentar recorrer todos los botones de las categorias\u001b[0m\u001b[0;34m\u001b[0m\u001b[0;34m\u001b[0m\u001b[0m\n\u001b[0;32m----> 2\u001b[0;31m \u001b[0mdriver\u001b[0m\u001b[0;34m.\u001b[0m\u001b[0mclose\u001b[0m\u001b[0;34m(\u001b[0m\u001b[0;34m)\u001b[0m\u001b[0;34m\u001b[0m\u001b[0;34m\u001b[0m\u001b[0m\n\u001b[0m",
      "\u001b[0;32m~/opt/anaconda3/lib/python3.9/site-packages/selenium/webdriver/remote/webdriver.py\u001b[0m in \u001b[0;36mclose\u001b[0;34m(self)\u001b[0m\n\u001b[1;32m    549\u001b[0m                 \u001b[0mdriver\u001b[0m\u001b[0;34m.\u001b[0m\u001b[0mclose\u001b[0m\u001b[0;34m(\u001b[0m\u001b[0;34m)\u001b[0m\u001b[0;34m\u001b[0m\u001b[0;34m\u001b[0m\u001b[0m\n\u001b[1;32m    550\u001b[0m         \"\"\"\n\u001b[0;32m--> 551\u001b[0;31m         \u001b[0mself\u001b[0m\u001b[0;34m.\u001b[0m\u001b[0mexecute\u001b[0m\u001b[0;34m(\u001b[0m\u001b[0mCommand\u001b[0m\u001b[0;34m.\u001b[0m\u001b[0mCLOSE\u001b[0m\u001b[0;34m)\u001b[0m\u001b[0;34m\u001b[0m\u001b[0;34m\u001b[0m\u001b[0m\n\u001b[0m\u001b[1;32m    552\u001b[0m \u001b[0;34m\u001b[0m\u001b[0m\n\u001b[1;32m    553\u001b[0m     \u001b[0;32mdef\u001b[0m \u001b[0mquit\u001b[0m\u001b[0;34m(\u001b[0m\u001b[0mself\u001b[0m\u001b[0;34m)\u001b[0m \u001b[0;34m->\u001b[0m \u001b[0;32mNone\u001b[0m\u001b[0;34m:\u001b[0m\u001b[0;34m\u001b[0m\u001b[0;34m\u001b[0m\u001b[0m\n",
      "\u001b[0;32m~/opt/anaconda3/lib/python3.9/site-packages/selenium/webdriver/remote/webdriver.py\u001b[0m in \u001b[0;36mexecute\u001b[0;34m(self, driver_command, params)\u001b[0m\n\u001b[1;32m    438\u001b[0m         \u001b[0mresponse\u001b[0m \u001b[0;34m=\u001b[0m \u001b[0mself\u001b[0m\u001b[0;34m.\u001b[0m\u001b[0mcommand_executor\u001b[0m\u001b[0;34m.\u001b[0m\u001b[0mexecute\u001b[0m\u001b[0;34m(\u001b[0m\u001b[0mdriver_command\u001b[0m\u001b[0;34m,\u001b[0m \u001b[0mparams\u001b[0m\u001b[0;34m)\u001b[0m\u001b[0;34m\u001b[0m\u001b[0;34m\u001b[0m\u001b[0m\n\u001b[1;32m    439\u001b[0m         \u001b[0;32mif\u001b[0m \u001b[0mresponse\u001b[0m\u001b[0;34m:\u001b[0m\u001b[0;34m\u001b[0m\u001b[0;34m\u001b[0m\u001b[0m\n\u001b[0;32m--> 440\u001b[0;31m             \u001b[0mself\u001b[0m\u001b[0;34m.\u001b[0m\u001b[0merror_handler\u001b[0m\u001b[0;34m.\u001b[0m\u001b[0mcheck_response\u001b[0m\u001b[0;34m(\u001b[0m\u001b[0mresponse\u001b[0m\u001b[0;34m)\u001b[0m\u001b[0;34m\u001b[0m\u001b[0;34m\u001b[0m\u001b[0m\n\u001b[0m\u001b[1;32m    441\u001b[0m             \u001b[0mresponse\u001b[0m\u001b[0;34m[\u001b[0m\u001b[0;34m\"value\"\u001b[0m\u001b[0;34m]\u001b[0m \u001b[0;34m=\u001b[0m \u001b[0mself\u001b[0m\u001b[0;34m.\u001b[0m\u001b[0m_unwrap_value\u001b[0m\u001b[0;34m(\u001b[0m\u001b[0mresponse\u001b[0m\u001b[0;34m.\u001b[0m\u001b[0mget\u001b[0m\u001b[0;34m(\u001b[0m\u001b[0;34m\"value\"\u001b[0m\u001b[0;34m,\u001b[0m \u001b[0;32mNone\u001b[0m\u001b[0;34m)\u001b[0m\u001b[0;34m)\u001b[0m\u001b[0;34m\u001b[0m\u001b[0;34m\u001b[0m\u001b[0m\n\u001b[1;32m    442\u001b[0m             \u001b[0;32mreturn\u001b[0m \u001b[0mresponse\u001b[0m\u001b[0;34m\u001b[0m\u001b[0;34m\u001b[0m\u001b[0m\n",
      "\u001b[0;32m~/opt/anaconda3/lib/python3.9/site-packages/selenium/webdriver/remote/errorhandler.py\u001b[0m in \u001b[0;36mcheck_response\u001b[0;34m(self, response)\u001b[0m\n\u001b[1;32m    243\u001b[0m                 \u001b[0malert_text\u001b[0m \u001b[0;34m=\u001b[0m \u001b[0mvalue\u001b[0m\u001b[0;34m[\u001b[0m\u001b[0;34m\"alert\"\u001b[0m\u001b[0;34m]\u001b[0m\u001b[0;34m.\u001b[0m\u001b[0mget\u001b[0m\u001b[0;34m(\u001b[0m\u001b[0;34m\"text\"\u001b[0m\u001b[0;34m)\u001b[0m\u001b[0;34m\u001b[0m\u001b[0;34m\u001b[0m\u001b[0m\n\u001b[1;32m    244\u001b[0m             \u001b[0;32mraise\u001b[0m \u001b[0mexception_class\u001b[0m\u001b[0;34m(\u001b[0m\u001b[0mmessage\u001b[0m\u001b[0;34m,\u001b[0m \u001b[0mscreen\u001b[0m\u001b[0;34m,\u001b[0m \u001b[0mstacktrace\u001b[0m\u001b[0;34m,\u001b[0m \u001b[0malert_text\u001b[0m\u001b[0;34m)\u001b[0m  \u001b[0;31m# type: ignore[call-arg]  # mypy is not smart enough here\u001b[0m\u001b[0;34m\u001b[0m\u001b[0;34m\u001b[0m\u001b[0m\n\u001b[0;32m--> 245\u001b[0;31m         \u001b[0;32mraise\u001b[0m \u001b[0mexception_class\u001b[0m\u001b[0;34m(\u001b[0m\u001b[0mmessage\u001b[0m\u001b[0;34m,\u001b[0m \u001b[0mscreen\u001b[0m\u001b[0;34m,\u001b[0m \u001b[0mstacktrace\u001b[0m\u001b[0;34m)\u001b[0m\u001b[0;34m\u001b[0m\u001b[0;34m\u001b[0m\u001b[0m\n\u001b[0m",
      "\u001b[0;31mWebDriverException\u001b[0m: Message: disconnected: not connected to DevTools\n  (failed to check if window was closed: disconnected: not connected to DevTools)\n  (Session info: chrome=110.0.5481.177)\nStacktrace:\n0   chromedriver                        0x0000000104f4f138 chromedriver + 4923704\n1   chromedriver                        0x0000000104ec79d3 chromedriver + 4368851\n2   chromedriver                        0x0000000104b10787 chromedriver + 472967\n3   chromedriver                        0x0000000104af5f48 chromedriver + 364360\n4   chromedriver                        0x0000000104af75ec chromedriver + 370156\n5   chromedriver                        0x0000000104af7544 chromedriver + 369988\n6   chromedriver                        0x0000000104ae4f7e chromedriver + 294782\n7   chromedriver                        0x0000000104ae5ec4 chromedriver + 298692\n8   chromedriver                        0x0000000104b89680 chromedriver + 968320\n9   chromedriver                        0x0000000104b7df78 chromedriver + 921464\n10  chromedriver                        0x0000000104b44a4b chromedriver + 686667\n11  chromedriver                        0x0000000104b46044 chromedriver + 692292\n12  chromedriver                        0x0000000104f1a8fe chromedriver + 4708606\n13  chromedriver                        0x0000000104f1fe22 chromedriver + 4730402\n14  chromedriver                        0x0000000104f286bf chromedriver + 4765375\n15  chromedriver                        0x0000000104f20e80 chromedriver + 4734592\n16  chromedriver                        0x0000000104ef1975 chromedriver + 4540789\n17  chromedriver                        0x0000000104f42e78 chromedriver + 4873848\n18  chromedriver                        0x0000000104f42ff5 chromedriver + 4874229\n19  chromedriver                        0x0000000104f576de chromedriver + 4957918\n20  libsystem_pthread.dylib             0x00007ff80cf1d514 _pthread_start + 125\n21  libsystem_pthread.dylib             0x00007ff80cf1902f thread_start + 15\n"
     ]
    }
   ],
   "source": [
    "# Intentar recorrer todos los botones de las categorias\n",
    "driver.close()"
   ]
  },
  {
   "cell_type": "code",
   "execution_count": null,
   "metadata": {},
   "outputs": [
    {
     "name": "stdout",
     "output_type": "stream",
     "text": [
      "Aceite, especias y salsas\n",
      "Aceite, vinagre y sal\n",
      "Especias\n",
      "Mayonesa, ketchup y mostaza\n",
      "Otras salsas\n"
     ]
    },
    {
     "data": {
      "text/plain": [
       "list"
      ]
     },
     "execution_count": 123,
     "metadata": {},
     "output_type": "execute_result"
    }
   ],
   "source": [
    "# Vamos a intentar recorrer en categoría Aceite, especias y salsas todas las sub-categorías\n",
    "categoria_abierta = driver.find_elements(By.CLASS_NAME,\"category-menu__item.open\")\n",
    "\n",
    "sub_categorias = []\n",
    "\n",
    "for categoria in categoria_abierta:\n",
    "    li = driver.find_element(By.TAG_NAME, \"li\")\n",
    "    sub_categorias.append(li.text)\n",
    "    print(li.text)\n",
    "\n"
   ]
  },
  {
   "cell_type": "code",
   "execution_count": null,
   "metadata": {},
   "outputs": [
    {
     "name": "stdout",
     "output_type": "stream",
     "text": [
      "Aceite, especias y salsas\n",
      "Aceite, vinagre y sal\n"
     ]
    },
    {
     "ename": "ElementClickInterceptedException",
     "evalue": "Message: element click intercepted: Element <button type=\"button\" class=\"ui-button ui-button--small ui-button--secondary ui-button--positive\">...</button> is not clickable at point (607, 918). Other element would receive the click: <div class=\"ui-modal ui-big-modal\">...</div>\n  (Session info: chrome=110.0.5481.177)\nStacktrace:\n0   chromedriver                        0x0000000104b24138 chromedriver + 4923704\n1   chromedriver                        0x0000000104a9c9d3 chromedriver + 4368851\n2   chromedriver                        0x00000001046e5787 chromedriver + 472967\n3   chromedriver                        0x0000000104732eaf chromedriver + 790191\n4   chromedriver                        0x00000001047302b9 chromedriver + 778937\n5   chromedriver                        0x000000010472cec4 chromedriver + 765636\n6   chromedriver                        0x000000010472b9db chromedriver + 760283\n7   chromedriver                        0x000000010471c303 chromedriver + 697091\n8   chromedriver                        0x0000000104752fb2 chromedriver + 921522\n9   chromedriver                        0x000000010471b971 chromedriver + 694641\n10  chromedriver                        0x00000001047531de chromedriver + 922078\n11  chromedriver                        0x000000010476dc0f chromedriver + 1031183\n12  chromedriver                        0x0000000104752d23 chromedriver + 920867\n13  chromedriver                        0x0000000104719a4b chromedriver + 686667\n14  chromedriver                        0x000000010471b044 chromedriver + 692292\n15  chromedriver                        0x0000000104aef8fe chromedriver + 4708606\n16  chromedriver                        0x0000000104af4e22 chromedriver + 4730402\n17  chromedriver                        0x0000000104afd6bf chromedriver + 4765375\n18  chromedriver                        0x0000000104af5e80 chromedriver + 4734592\n19  chromedriver                        0x0000000104ac6975 chromedriver + 4540789\n20  chromedriver                        0x0000000104b17e78 chromedriver + 4873848\n21  chromedriver                        0x0000000104b17ff5 chromedriver + 4874229\n22  chromedriver                        0x0000000104b2c6de chromedriver + 4957918\n23  libsystem_pthread.dylib             0x00007ff80cf1d514 _pthread_start + 125\n24  libsystem_pthread.dylib             0x00007ff80cf1902f thread_start + 15\n",
     "output_type": "error",
     "traceback": [
      "\u001b[0;31m---------------------------------------------------------------------------\u001b[0m",
      "\u001b[0;31mElementClickInterceptedException\u001b[0m          Traceback (most recent call last)",
      "\u001b[0;32m/var/folders/j0/w6j4gtqn3qgbyxvxzx172r_m0000gn/T/ipykernel_14667/1795157634.py\u001b[0m in \u001b[0;36m<module>\u001b[0;34m\u001b[0m\n\u001b[1;32m      5\u001b[0m     \u001b[0mprint\u001b[0m\u001b[0;34m(\u001b[0m\u001b[0mboton\u001b[0m\u001b[0;34m.\u001b[0m\u001b[0mtext\u001b[0m\u001b[0;34m)\u001b[0m\u001b[0;34m\u001b[0m\u001b[0;34m\u001b[0m\u001b[0m\n\u001b[1;32m      6\u001b[0m     \u001b[0maccept\u001b[0m \u001b[0;34m=\u001b[0m \u001b[0mdriver\u001b[0m\u001b[0;34m.\u001b[0m\u001b[0mfind_element\u001b[0m\u001b[0;34m(\u001b[0m\u001b[0mBy\u001b[0m\u001b[0;34m.\u001b[0m\u001b[0mTAG_NAME\u001b[0m\u001b[0;34m,\u001b[0m\u001b[0;34m\"button\"\u001b[0m\u001b[0;34m)\u001b[0m\u001b[0;34m\u001b[0m\u001b[0;34m\u001b[0m\u001b[0m\n\u001b[0;32m----> 7\u001b[0;31m     \u001b[0maccept\u001b[0m\u001b[0;34m.\u001b[0m\u001b[0mclick\u001b[0m\u001b[0;34m(\u001b[0m\u001b[0;34m)\u001b[0m\u001b[0;34m\u001b[0m\u001b[0;34m\u001b[0m\u001b[0m\n\u001b[0m\u001b[1;32m      8\u001b[0m     \u001b[0mtime\u001b[0m\u001b[0;34m.\u001b[0m\u001b[0msleep\u001b[0m\u001b[0;34m(\u001b[0m\u001b[0;36m3\u001b[0m\u001b[0;34m)\u001b[0m\u001b[0;34m\u001b[0m\u001b[0;34m\u001b[0m\u001b[0m\n",
      "\u001b[0;32m~/opt/anaconda3/lib/python3.9/site-packages/selenium/webdriver/remote/webelement.py\u001b[0m in \u001b[0;36mclick\u001b[0;34m(self)\u001b[0m\n\u001b[1;32m     91\u001b[0m     \u001b[0;32mdef\u001b[0m \u001b[0mclick\u001b[0m\u001b[0;34m(\u001b[0m\u001b[0mself\u001b[0m\u001b[0;34m)\u001b[0m \u001b[0;34m->\u001b[0m \u001b[0;32mNone\u001b[0m\u001b[0;34m:\u001b[0m\u001b[0;34m\u001b[0m\u001b[0;34m\u001b[0m\u001b[0m\n\u001b[1;32m     92\u001b[0m         \u001b[0;34m\"\"\"Clicks the element.\"\"\"\u001b[0m\u001b[0;34m\u001b[0m\u001b[0;34m\u001b[0m\u001b[0m\n\u001b[0;32m---> 93\u001b[0;31m         \u001b[0mself\u001b[0m\u001b[0;34m.\u001b[0m\u001b[0m_execute\u001b[0m\u001b[0;34m(\u001b[0m\u001b[0mCommand\u001b[0m\u001b[0;34m.\u001b[0m\u001b[0mCLICK_ELEMENT\u001b[0m\u001b[0;34m)\u001b[0m\u001b[0;34m\u001b[0m\u001b[0;34m\u001b[0m\u001b[0m\n\u001b[0m\u001b[1;32m     94\u001b[0m \u001b[0;34m\u001b[0m\u001b[0m\n\u001b[1;32m     95\u001b[0m     \u001b[0;32mdef\u001b[0m \u001b[0msubmit\u001b[0m\u001b[0;34m(\u001b[0m\u001b[0mself\u001b[0m\u001b[0;34m)\u001b[0m\u001b[0;34m:\u001b[0m\u001b[0;34m\u001b[0m\u001b[0;34m\u001b[0m\u001b[0m\n",
      "\u001b[0;32m~/opt/anaconda3/lib/python3.9/site-packages/selenium/webdriver/remote/webelement.py\u001b[0m in \u001b[0;36m_execute\u001b[0;34m(self, command, params)\u001b[0m\n\u001b[1;32m    401\u001b[0m             \u001b[0mparams\u001b[0m \u001b[0;34m=\u001b[0m \u001b[0;34m{\u001b[0m\u001b[0;34m}\u001b[0m\u001b[0;34m\u001b[0m\u001b[0;34m\u001b[0m\u001b[0m\n\u001b[1;32m    402\u001b[0m         \u001b[0mparams\u001b[0m\u001b[0;34m[\u001b[0m\u001b[0;34m\"id\"\u001b[0m\u001b[0;34m]\u001b[0m \u001b[0;34m=\u001b[0m \u001b[0mself\u001b[0m\u001b[0;34m.\u001b[0m\u001b[0m_id\u001b[0m\u001b[0;34m\u001b[0m\u001b[0;34m\u001b[0m\u001b[0m\n\u001b[0;32m--> 403\u001b[0;31m         \u001b[0;32mreturn\u001b[0m \u001b[0mself\u001b[0m\u001b[0;34m.\u001b[0m\u001b[0m_parent\u001b[0m\u001b[0;34m.\u001b[0m\u001b[0mexecute\u001b[0m\u001b[0;34m(\u001b[0m\u001b[0mcommand\u001b[0m\u001b[0;34m,\u001b[0m \u001b[0mparams\u001b[0m\u001b[0;34m)\u001b[0m\u001b[0;34m\u001b[0m\u001b[0;34m\u001b[0m\u001b[0m\n\u001b[0m\u001b[1;32m    404\u001b[0m \u001b[0;34m\u001b[0m\u001b[0m\n\u001b[1;32m    405\u001b[0m     \u001b[0;32mdef\u001b[0m \u001b[0mfind_element\u001b[0m\u001b[0;34m(\u001b[0m\u001b[0mself\u001b[0m\u001b[0;34m,\u001b[0m \u001b[0mby\u001b[0m\u001b[0;34m=\u001b[0m\u001b[0mBy\u001b[0m\u001b[0;34m.\u001b[0m\u001b[0mID\u001b[0m\u001b[0;34m,\u001b[0m \u001b[0mvalue\u001b[0m\u001b[0;34m=\u001b[0m\u001b[0;32mNone\u001b[0m\u001b[0;34m)\u001b[0m \u001b[0;34m->\u001b[0m \u001b[0mWebElement\u001b[0m\u001b[0;34m:\u001b[0m\u001b[0;34m\u001b[0m\u001b[0;34m\u001b[0m\u001b[0m\n",
      "\u001b[0;32m~/opt/anaconda3/lib/python3.9/site-packages/selenium/webdriver/remote/webdriver.py\u001b[0m in \u001b[0;36mexecute\u001b[0;34m(self, driver_command, params)\u001b[0m\n\u001b[1;32m    438\u001b[0m         \u001b[0mresponse\u001b[0m \u001b[0;34m=\u001b[0m \u001b[0mself\u001b[0m\u001b[0;34m.\u001b[0m\u001b[0mcommand_executor\u001b[0m\u001b[0;34m.\u001b[0m\u001b[0mexecute\u001b[0m\u001b[0;34m(\u001b[0m\u001b[0mdriver_command\u001b[0m\u001b[0;34m,\u001b[0m \u001b[0mparams\u001b[0m\u001b[0;34m)\u001b[0m\u001b[0;34m\u001b[0m\u001b[0;34m\u001b[0m\u001b[0m\n\u001b[1;32m    439\u001b[0m         \u001b[0;32mif\u001b[0m \u001b[0mresponse\u001b[0m\u001b[0;34m:\u001b[0m\u001b[0;34m\u001b[0m\u001b[0;34m\u001b[0m\u001b[0m\n\u001b[0;32m--> 440\u001b[0;31m             \u001b[0mself\u001b[0m\u001b[0;34m.\u001b[0m\u001b[0merror_handler\u001b[0m\u001b[0;34m.\u001b[0m\u001b[0mcheck_response\u001b[0m\u001b[0;34m(\u001b[0m\u001b[0mresponse\u001b[0m\u001b[0;34m)\u001b[0m\u001b[0;34m\u001b[0m\u001b[0;34m\u001b[0m\u001b[0m\n\u001b[0m\u001b[1;32m    441\u001b[0m             \u001b[0mresponse\u001b[0m\u001b[0;34m[\u001b[0m\u001b[0;34m\"value\"\u001b[0m\u001b[0;34m]\u001b[0m \u001b[0;34m=\u001b[0m \u001b[0mself\u001b[0m\u001b[0;34m.\u001b[0m\u001b[0m_unwrap_value\u001b[0m\u001b[0;34m(\u001b[0m\u001b[0mresponse\u001b[0m\u001b[0;34m.\u001b[0m\u001b[0mget\u001b[0m\u001b[0;34m(\u001b[0m\u001b[0;34m\"value\"\u001b[0m\u001b[0;34m,\u001b[0m \u001b[0;32mNone\u001b[0m\u001b[0;34m)\u001b[0m\u001b[0;34m)\u001b[0m\u001b[0;34m\u001b[0m\u001b[0;34m\u001b[0m\u001b[0m\n\u001b[1;32m    442\u001b[0m             \u001b[0;32mreturn\u001b[0m \u001b[0mresponse\u001b[0m\u001b[0;34m\u001b[0m\u001b[0;34m\u001b[0m\u001b[0m\n",
      "\u001b[0;32m~/opt/anaconda3/lib/python3.9/site-packages/selenium/webdriver/remote/errorhandler.py\u001b[0m in \u001b[0;36mcheck_response\u001b[0;34m(self, response)\u001b[0m\n\u001b[1;32m    243\u001b[0m                 \u001b[0malert_text\u001b[0m \u001b[0;34m=\u001b[0m \u001b[0mvalue\u001b[0m\u001b[0;34m[\u001b[0m\u001b[0;34m\"alert\"\u001b[0m\u001b[0;34m]\u001b[0m\u001b[0;34m.\u001b[0m\u001b[0mget\u001b[0m\u001b[0;34m(\u001b[0m\u001b[0;34m\"text\"\u001b[0m\u001b[0;34m)\u001b[0m\u001b[0;34m\u001b[0m\u001b[0;34m\u001b[0m\u001b[0m\n\u001b[1;32m    244\u001b[0m             \u001b[0;32mraise\u001b[0m \u001b[0mexception_class\u001b[0m\u001b[0;34m(\u001b[0m\u001b[0mmessage\u001b[0m\u001b[0;34m,\u001b[0m \u001b[0mscreen\u001b[0m\u001b[0;34m,\u001b[0m \u001b[0mstacktrace\u001b[0m\u001b[0;34m,\u001b[0m \u001b[0malert_text\u001b[0m\u001b[0;34m)\u001b[0m  \u001b[0;31m# type: ignore[call-arg]  # mypy is not smart enough here\u001b[0m\u001b[0;34m\u001b[0m\u001b[0;34m\u001b[0m\u001b[0m\n\u001b[0;32m--> 245\u001b[0;31m         \u001b[0;32mraise\u001b[0m \u001b[0mexception_class\u001b[0m\u001b[0;34m(\u001b[0m\u001b[0mmessage\u001b[0m\u001b[0;34m,\u001b[0m \u001b[0mscreen\u001b[0m\u001b[0;34m,\u001b[0m \u001b[0mstacktrace\u001b[0m\u001b[0;34m)\u001b[0m\u001b[0;34m\u001b[0m\u001b[0;34m\u001b[0m\u001b[0m\n\u001b[0m",
      "\u001b[0;31mElementClickInterceptedException\u001b[0m: Message: element click intercepted: Element <button type=\"button\" class=\"ui-button ui-button--small ui-button--secondary ui-button--positive\">...</button> is not clickable at point (607, 918). Other element would receive the click: <div class=\"ui-modal ui-big-modal\">...</div>\n  (Session info: chrome=110.0.5481.177)\nStacktrace:\n0   chromedriver                        0x0000000104b24138 chromedriver + 4923704\n1   chromedriver                        0x0000000104a9c9d3 chromedriver + 4368851\n2   chromedriver                        0x00000001046e5787 chromedriver + 472967\n3   chromedriver                        0x0000000104732eaf chromedriver + 790191\n4   chromedriver                        0x00000001047302b9 chromedriver + 778937\n5   chromedriver                        0x000000010472cec4 chromedriver + 765636\n6   chromedriver                        0x000000010472b9db chromedriver + 760283\n7   chromedriver                        0x000000010471c303 chromedriver + 697091\n8   chromedriver                        0x0000000104752fb2 chromedriver + 921522\n9   chromedriver                        0x000000010471b971 chromedriver + 694641\n10  chromedriver                        0x00000001047531de chromedriver + 922078\n11  chromedriver                        0x000000010476dc0f chromedriver + 1031183\n12  chromedriver                        0x0000000104752d23 chromedriver + 920867\n13  chromedriver                        0x0000000104719a4b chromedriver + 686667\n14  chromedriver                        0x000000010471b044 chromedriver + 692292\n15  chromedriver                        0x0000000104aef8fe chromedriver + 4708606\n16  chromedriver                        0x0000000104af4e22 chromedriver + 4730402\n17  chromedriver                        0x0000000104afd6bf chromedriver + 4765375\n18  chromedriver                        0x0000000104af5e80 chromedriver + 4734592\n19  chromedriver                        0x0000000104ac6975 chromedriver + 4540789\n20  chromedriver                        0x0000000104b17e78 chromedriver + 4873848\n21  chromedriver                        0x0000000104b17ff5 chromedriver + 4874229\n22  chromedriver                        0x0000000104b2c6de chromedriver + 4957918\n23  libsystem_pthread.dylib             0x00007ff80cf1d514 _pthread_start + 125\n24  libsystem_pthread.dylib             0x00007ff80cf1902f thread_start + 15\n"
     ]
    }
   ],
   "source": [
    "# driver.close()\n",
    "botones = driver.find_elements(By.TAG_NAME, \"button\")\n",
    "\n",
    "for boton in botones[5:]:\n",
    "    print(boton.text)\n",
    "    accept = driver.find_element(By.TAG_NAME,\"button\")\n",
    "    accept.click()\n",
    "    time.sleep(2)"
   ]
  },
  {
   "cell_type": "code",
   "execution_count": null,
   "metadata": {},
   "outputs": [],
   "source": []
  },
  {
   "cell_type": "code",
   "execution_count": null,
   "metadata": {},
   "outputs": [],
   "source": [
    "#botones = driver.find_element(By.XPATH,'//*[@id=\"root\"]/div[2]/div[1]/ul/li[1]/div/button')\n",
    "# botones = driver.find_element(By.XPATH,'//*[@id=\"root\"]/div[2]/div[1]/ul/li[2]/div/button')\n",
    "#root > div.grid-layout > div.grid-layout__sidebar > ul > li.category-menu__item.open > div > button\n",
    "#root > div.grid-layout > div.grid-layout__sidebar > ul > li:nth-child(2) > div > button\n",
    "\n",
    "# for boton in menu_alimentos:\n",
    "menu_alimentos"
   ]
  },
  {
   "cell_type": "code",
   "execution_count": null,
   "metadata": {},
   "outputs": [],
   "source": [
    "# CERRAR VENTANA SELENIUM\n",
    "driver.close()"
   ]
  }
 ],
 "metadata": {
  "interpreter": {
   "hash": "bcdc425d517deb9e216693a9add6673374e5d52249ad1f984c9f7bda525a095e"
  },
  "kernelspec": {
   "display_name": "Python 3.9.13 ('base')",
   "language": "python",
   "name": "python3"
  },
  "language_info": {
   "codemirror_mode": {
    "name": "ipython",
    "version": 3
   },
   "file_extension": ".py",
   "mimetype": "text/x-python",
   "name": "python",
   "nbconvert_exporter": "python",
   "pygments_lexer": "ipython3",
   "version": "3.9.13"
  },
  "orig_nbformat": 4
 },
 "nbformat": 4,
 "nbformat_minor": 2
}
