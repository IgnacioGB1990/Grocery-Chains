{
 "cells": [
  {
   "cell_type": "code",
   "execution_count": 3,
   "metadata": {},
   "outputs": [],
   "source": [
    "import pandas as pd\n",
    "import time\n",
    "import random\n",
    "\n",
    "from selenium import webdriver\n",
    "from selenium.webdriver.chrome.service import Service\n",
    "from webdriver_manager.chrome import ChromeDriverManager\n",
    "from selenium.webdriver.common.by import By\n",
    "from selenium.webdriver.common.keys import Keys\n",
    "\n",
    "from IPython.display import display\n",
    "from datetime import datetime\n"
   ]
  },
  {
   "cell_type": "markdown",
   "metadata": {},
   "source": [
    "### Mercadona Web Scraping Script"
   ]
  },
  {
   "cell_type": "code",
   "execution_count": 48,
   "metadata": {},
   "outputs": [
    {
     "name": "stderr",
     "output_type": "stream",
     "text": [
      "[WDM] - Downloading: 100%|██████████| 8.82M/8.82M [00:01<00:00, 9.13MB/s]\n"
     ]
    }
   ],
   "source": [
    "# 1. Abre navegador en blanco\n",
    "service = Service(ChromeDriverManager().install())\n",
    "driver = webdriver.Chrome(service=service)\n",
    "\n",
    "# 2. Abrimos web mercadona\n",
    "url_mercadona =\"https://tienda.mercadona.es/categories/\"\n",
    "driver.get(url_mercadona)\n",
    "\n",
    "# Esperamos unos segundillos\n",
    "time.sleep(3)\n",
    "\n",
    "# Aceptamos cookies\n",
    "cookies = driver.find_element(By.CLASS_NAME,\"ui-button.ui-button--small.ui-button--primary.ui-button--positive\")\n",
    "cookies.send_keys(Keys.ENTER)\n",
    "\n",
    "# Buscamos por clase el campo de input para poder introducir nuestro código postal\n",
    "input = driver.find_element(By.CLASS_NAME,\"ym-hide-content\")\n",
    "\n",
    "# Introducimos el código postal\n",
    "input.send_keys(\"28016\")\n",
    "\n",
    "# Esperamos unos segundillos\n",
    "time.sleep(round(random.uniform(0.5,3),1))\n",
    "\n",
    "# Le damos a ENTER\n",
    "input.send_keys(Keys.ENTER)   #driver.find_element_by_id(\"submit\").click()\n"
   ]
  },
  {
   "cell_type": "code",
   "execution_count": null,
   "metadata": {},
   "outputs": [],
   "source": [
    "driver.close()"
   ]
  },
  {
   "cell_type": "code",
   "execution_count": 49,
   "metadata": {},
   "outputs": [
    {
     "ename": "KeyboardInterrupt",
     "evalue": "",
     "output_type": "error",
     "traceback": [
      "\u001b[0;31m---------------------------------------------------------------------------\u001b[0m",
      "\u001b[0;31mTypeError\u001b[0m                                 Traceback (most recent call last)",
      "\u001b[0;32m~/opt/anaconda3/lib/python3.9/site-packages/urllib3/connectionpool.py\u001b[0m in \u001b[0;36m_make_request\u001b[0;34m(self, conn, method, url, timeout, chunked, **httplib_request_kw)\u001b[0m\n\u001b[1;32m    376\u001b[0m             \u001b[0;32mtry\u001b[0m\u001b[0;34m:\u001b[0m  \u001b[0;31m# Python 2.7, use buffering of HTTP responses\u001b[0m\u001b[0;34m\u001b[0m\u001b[0;34m\u001b[0m\u001b[0m\n\u001b[0;32m--> 377\u001b[0;31m                 \u001b[0mhttplib_response\u001b[0m \u001b[0;34m=\u001b[0m \u001b[0mconn\u001b[0m\u001b[0;34m.\u001b[0m\u001b[0mgetresponse\u001b[0m\u001b[0;34m(\u001b[0m\u001b[0mbuffering\u001b[0m\u001b[0;34m=\u001b[0m\u001b[0;32mTrue\u001b[0m\u001b[0;34m)\u001b[0m\u001b[0;34m\u001b[0m\u001b[0;34m\u001b[0m\u001b[0m\n\u001b[0m\u001b[1;32m    378\u001b[0m             \u001b[0;32mexcept\u001b[0m \u001b[0mTypeError\u001b[0m\u001b[0;34m:\u001b[0m  \u001b[0;31m# Python 3\u001b[0m\u001b[0;34m\u001b[0m\u001b[0;34m\u001b[0m\u001b[0m\n",
      "\u001b[0;31mTypeError\u001b[0m: getresponse() got an unexpected keyword argument 'buffering'",
      "\nDuring handling of the above exception, another exception occurred:\n",
      "\u001b[0;31mKeyboardInterrupt\u001b[0m                         Traceback (most recent call last)",
      "\u001b[0;32m/var/folders/j0/w6j4gtqn3qgbyxvxzx172r_m0000gn/T/ipykernel_30971/1529515598.py\u001b[0m in \u001b[0;36m<module>\u001b[0;34m\u001b[0m\n\u001b[1;32m     67\u001b[0m         \u001b[0mtime\u001b[0m\u001b[0;34m.\u001b[0m\u001b[0msleep\u001b[0m\u001b[0;34m(\u001b[0m\u001b[0;36m1\u001b[0m\u001b[0;34m)\u001b[0m\u001b[0;34m\u001b[0m\u001b[0;34m\u001b[0m\u001b[0m\n\u001b[1;32m     68\u001b[0m         \u001b[0;31m# Una vez en el bloque adecuado cogemos todos los productos\u001b[0m\u001b[0;34m\u001b[0m\u001b[0;34m\u001b[0m\u001b[0m\n\u001b[0;32m---> 69\u001b[0;31m         \u001b[0mget_product_details\u001b[0m\u001b[0;34m(\u001b[0m\u001b[0mcategories\u001b[0m\u001b[0;34m,\u001b[0m\u001b[0mempty\u001b[0m\u001b[0;34m,\u001b[0m\u001b[0mgroup_contador\u001b[0m\u001b[0;34m,\u001b[0m\u001b[0mcategory_contador\u001b[0m\u001b[0;34m)\u001b[0m\u001b[0;34m\u001b[0m\u001b[0;34m\u001b[0m\u001b[0m\n\u001b[0m\u001b[1;32m     70\u001b[0m         \u001b[0mcategory_contador\u001b[0m\u001b[0;34m+=\u001b[0m\u001b[0;36m1\u001b[0m\u001b[0;34m\u001b[0m\u001b[0;34m\u001b[0m\u001b[0m\n\u001b[1;32m     71\u001b[0m         \u001b[0msub_category_contador\u001b[0m\u001b[0;34m+=\u001b[0m\u001b[0;36m1\u001b[0m\u001b[0;34m\u001b[0m\u001b[0;34m\u001b[0m\u001b[0m\n",
      "\u001b[0;32m/var/folders/j0/w6j4gtqn3qgbyxvxzx172r_m0000gn/T/ipykernel_30971/1529515598.py\u001b[0m in \u001b[0;36mget_product_details\u001b[0;34m(categories, empty, group_contador, category_contador)\u001b[0m\n\u001b[1;32m     28\u001b[0m         \u001b[0;32mfor\u001b[0m \u001b[0mproduct\u001b[0m \u001b[0;32min\u001b[0m \u001b[0mproduct_container\u001b[0m\u001b[0;34m:\u001b[0m\u001b[0;34m\u001b[0m\u001b[0;34m\u001b[0m\u001b[0m\n\u001b[1;32m     29\u001b[0m             \u001b[0mproduct_image\u001b[0m \u001b[0;34m=\u001b[0m \u001b[0mcontenedor\u001b[0m\u001b[0;34m.\u001b[0m\u001b[0mfind_element\u001b[0m\u001b[0;34m(\u001b[0m\u001b[0mBy\u001b[0m\u001b[0;34m.\u001b[0m\u001b[0mTAG_NAME\u001b[0m\u001b[0;34m,\u001b[0m\u001b[0;34m\"img\"\u001b[0m\u001b[0;34m)\u001b[0m\u001b[0;34m.\u001b[0m\u001b[0mget_attribute\u001b[0m\u001b[0;34m(\u001b[0m\u001b[0;34m\"src\"\u001b[0m\u001b[0;34m)\u001b[0m\u001b[0;34m\u001b[0m\u001b[0;34m\u001b[0m\u001b[0m\n\u001b[0;32m---> 30\u001b[0;31m             \u001b[0mproduct_array\u001b[0m \u001b[0;34m=\u001b[0m \u001b[0mproduct\u001b[0m\u001b[0;34m.\u001b[0m\u001b[0mtext\u001b[0m\u001b[0;34m.\u001b[0m\u001b[0msplit\u001b[0m\u001b[0;34m(\u001b[0m\u001b[0;34m\"\\n\"\u001b[0m\u001b[0;34m)\u001b[0m\u001b[0;34m[\u001b[0m\u001b[0;34m:\u001b[0m\u001b[0;34m-\u001b[0m\u001b[0;36m1\u001b[0m\u001b[0;34m]\u001b[0m\u001b[0;34m\u001b[0m\u001b[0;34m\u001b[0m\u001b[0m\n\u001b[0m\u001b[1;32m     31\u001b[0m             \u001b[0mproduct_array\u001b[0m\u001b[0;34m.\u001b[0m\u001b[0mappend\u001b[0m\u001b[0;34m(\u001b[0m\u001b[0mproduct_image\u001b[0m\u001b[0;34m)\u001b[0m\u001b[0;34m\u001b[0m\u001b[0;34m\u001b[0m\u001b[0m\n\u001b[1;32m     32\u001b[0m \u001b[0;34m\u001b[0m\u001b[0m\n",
      "\u001b[0;32m~/opt/anaconda3/lib/python3.9/site-packages/selenium/webdriver/remote/webelement.py\u001b[0m in \u001b[0;36mtext\u001b[0;34m(self)\u001b[0m\n\u001b[1;32m     87\u001b[0m     \u001b[0;32mdef\u001b[0m \u001b[0mtext\u001b[0m\u001b[0;34m(\u001b[0m\u001b[0mself\u001b[0m\u001b[0;34m)\u001b[0m \u001b[0;34m->\u001b[0m \u001b[0mstr\u001b[0m\u001b[0;34m:\u001b[0m\u001b[0;34m\u001b[0m\u001b[0;34m\u001b[0m\u001b[0m\n\u001b[1;32m     88\u001b[0m         \u001b[0;34m\"\"\"The text of the element.\"\"\"\u001b[0m\u001b[0;34m\u001b[0m\u001b[0;34m\u001b[0m\u001b[0m\n\u001b[0;32m---> 89\u001b[0;31m         \u001b[0;32mreturn\u001b[0m \u001b[0mself\u001b[0m\u001b[0;34m.\u001b[0m\u001b[0m_execute\u001b[0m\u001b[0;34m(\u001b[0m\u001b[0mCommand\u001b[0m\u001b[0;34m.\u001b[0m\u001b[0mGET_ELEMENT_TEXT\u001b[0m\u001b[0;34m)\u001b[0m\u001b[0;34m[\u001b[0m\u001b[0;34m\"value\"\u001b[0m\u001b[0;34m]\u001b[0m\u001b[0;34m\u001b[0m\u001b[0;34m\u001b[0m\u001b[0m\n\u001b[0m\u001b[1;32m     90\u001b[0m \u001b[0;34m\u001b[0m\u001b[0m\n\u001b[1;32m     91\u001b[0m     \u001b[0;32mdef\u001b[0m \u001b[0mclick\u001b[0m\u001b[0;34m(\u001b[0m\u001b[0mself\u001b[0m\u001b[0;34m)\u001b[0m \u001b[0;34m->\u001b[0m \u001b[0;32mNone\u001b[0m\u001b[0;34m:\u001b[0m\u001b[0;34m\u001b[0m\u001b[0;34m\u001b[0m\u001b[0m\n",
      "\u001b[0;32m~/opt/anaconda3/lib/python3.9/site-packages/selenium/webdriver/remote/webelement.py\u001b[0m in \u001b[0;36m_execute\u001b[0;34m(self, command, params)\u001b[0m\n\u001b[1;32m    401\u001b[0m             \u001b[0mparams\u001b[0m \u001b[0;34m=\u001b[0m \u001b[0;34m{\u001b[0m\u001b[0;34m}\u001b[0m\u001b[0;34m\u001b[0m\u001b[0;34m\u001b[0m\u001b[0m\n\u001b[1;32m    402\u001b[0m         \u001b[0mparams\u001b[0m\u001b[0;34m[\u001b[0m\u001b[0;34m\"id\"\u001b[0m\u001b[0;34m]\u001b[0m \u001b[0;34m=\u001b[0m \u001b[0mself\u001b[0m\u001b[0;34m.\u001b[0m\u001b[0m_id\u001b[0m\u001b[0;34m\u001b[0m\u001b[0;34m\u001b[0m\u001b[0m\n\u001b[0;32m--> 403\u001b[0;31m         \u001b[0;32mreturn\u001b[0m \u001b[0mself\u001b[0m\u001b[0;34m.\u001b[0m\u001b[0m_parent\u001b[0m\u001b[0;34m.\u001b[0m\u001b[0mexecute\u001b[0m\u001b[0;34m(\u001b[0m\u001b[0mcommand\u001b[0m\u001b[0;34m,\u001b[0m \u001b[0mparams\u001b[0m\u001b[0;34m)\u001b[0m\u001b[0;34m\u001b[0m\u001b[0;34m\u001b[0m\u001b[0m\n\u001b[0m\u001b[1;32m    404\u001b[0m \u001b[0;34m\u001b[0m\u001b[0m\n\u001b[1;32m    405\u001b[0m     \u001b[0;32mdef\u001b[0m \u001b[0mfind_element\u001b[0m\u001b[0;34m(\u001b[0m\u001b[0mself\u001b[0m\u001b[0;34m,\u001b[0m \u001b[0mby\u001b[0m\u001b[0;34m=\u001b[0m\u001b[0mBy\u001b[0m\u001b[0;34m.\u001b[0m\u001b[0mID\u001b[0m\u001b[0;34m,\u001b[0m \u001b[0mvalue\u001b[0m\u001b[0;34m=\u001b[0m\u001b[0;32mNone\u001b[0m\u001b[0;34m)\u001b[0m \u001b[0;34m->\u001b[0m \u001b[0mWebElement\u001b[0m\u001b[0;34m:\u001b[0m\u001b[0;34m\u001b[0m\u001b[0;34m\u001b[0m\u001b[0m\n",
      "\u001b[0;32m~/opt/anaconda3/lib/python3.9/site-packages/selenium/webdriver/remote/webdriver.py\u001b[0m in \u001b[0;36mexecute\u001b[0;34m(self, driver_command, params)\u001b[0m\n\u001b[1;32m    436\u001b[0m                 \u001b[0mparams\u001b[0m\u001b[0;34m[\u001b[0m\u001b[0;34m\"sessionId\"\u001b[0m\u001b[0;34m]\u001b[0m \u001b[0;34m=\u001b[0m \u001b[0mself\u001b[0m\u001b[0;34m.\u001b[0m\u001b[0msession_id\u001b[0m\u001b[0;34m\u001b[0m\u001b[0;34m\u001b[0m\u001b[0m\n\u001b[1;32m    437\u001b[0m \u001b[0;34m\u001b[0m\u001b[0m\n\u001b[0;32m--> 438\u001b[0;31m         \u001b[0mresponse\u001b[0m \u001b[0;34m=\u001b[0m \u001b[0mself\u001b[0m\u001b[0;34m.\u001b[0m\u001b[0mcommand_executor\u001b[0m\u001b[0;34m.\u001b[0m\u001b[0mexecute\u001b[0m\u001b[0;34m(\u001b[0m\u001b[0mdriver_command\u001b[0m\u001b[0;34m,\u001b[0m \u001b[0mparams\u001b[0m\u001b[0;34m)\u001b[0m\u001b[0;34m\u001b[0m\u001b[0;34m\u001b[0m\u001b[0m\n\u001b[0m\u001b[1;32m    439\u001b[0m         \u001b[0;32mif\u001b[0m \u001b[0mresponse\u001b[0m\u001b[0;34m:\u001b[0m\u001b[0;34m\u001b[0m\u001b[0;34m\u001b[0m\u001b[0m\n\u001b[1;32m    440\u001b[0m             \u001b[0mself\u001b[0m\u001b[0;34m.\u001b[0m\u001b[0merror_handler\u001b[0m\u001b[0;34m.\u001b[0m\u001b[0mcheck_response\u001b[0m\u001b[0;34m(\u001b[0m\u001b[0mresponse\u001b[0m\u001b[0;34m)\u001b[0m\u001b[0;34m\u001b[0m\u001b[0;34m\u001b[0m\u001b[0m\n",
      "\u001b[0;32m~/opt/anaconda3/lib/python3.9/site-packages/selenium/webdriver/remote/remote_connection.py\u001b[0m in \u001b[0;36mexecute\u001b[0;34m(self, command, params)\u001b[0m\n\u001b[1;32m    288\u001b[0m         \u001b[0mdata\u001b[0m \u001b[0;34m=\u001b[0m \u001b[0mutils\u001b[0m\u001b[0;34m.\u001b[0m\u001b[0mdump_json\u001b[0m\u001b[0;34m(\u001b[0m\u001b[0mparams\u001b[0m\u001b[0;34m)\u001b[0m\u001b[0;34m\u001b[0m\u001b[0;34m\u001b[0m\u001b[0m\n\u001b[1;32m    289\u001b[0m         \u001b[0murl\u001b[0m \u001b[0;34m=\u001b[0m \u001b[0;34mf\"{self._url}{path}\"\u001b[0m\u001b[0;34m\u001b[0m\u001b[0;34m\u001b[0m\u001b[0m\n\u001b[0;32m--> 290\u001b[0;31m         \u001b[0;32mreturn\u001b[0m \u001b[0mself\u001b[0m\u001b[0;34m.\u001b[0m\u001b[0m_request\u001b[0m\u001b[0;34m(\u001b[0m\u001b[0mcommand_info\u001b[0m\u001b[0;34m[\u001b[0m\u001b[0;36m0\u001b[0m\u001b[0;34m]\u001b[0m\u001b[0;34m,\u001b[0m \u001b[0murl\u001b[0m\u001b[0;34m,\u001b[0m \u001b[0mbody\u001b[0m\u001b[0;34m=\u001b[0m\u001b[0mdata\u001b[0m\u001b[0;34m)\u001b[0m\u001b[0;34m\u001b[0m\u001b[0;34m\u001b[0m\u001b[0m\n\u001b[0m\u001b[1;32m    291\u001b[0m \u001b[0;34m\u001b[0m\u001b[0m\n\u001b[1;32m    292\u001b[0m     \u001b[0;32mdef\u001b[0m \u001b[0m_request\u001b[0m\u001b[0;34m(\u001b[0m\u001b[0mself\u001b[0m\u001b[0;34m,\u001b[0m \u001b[0mmethod\u001b[0m\u001b[0;34m,\u001b[0m \u001b[0murl\u001b[0m\u001b[0;34m,\u001b[0m \u001b[0mbody\u001b[0m\u001b[0;34m=\u001b[0m\u001b[0;32mNone\u001b[0m\u001b[0;34m)\u001b[0m\u001b[0;34m:\u001b[0m\u001b[0;34m\u001b[0m\u001b[0;34m\u001b[0m\u001b[0m\n",
      "\u001b[0;32m~/opt/anaconda3/lib/python3.9/site-packages/selenium/webdriver/remote/remote_connection.py\u001b[0m in \u001b[0;36m_request\u001b[0;34m(self, method, url, body)\u001b[0m\n\u001b[1;32m    309\u001b[0m \u001b[0;34m\u001b[0m\u001b[0m\n\u001b[1;32m    310\u001b[0m         \u001b[0;32mif\u001b[0m \u001b[0mself\u001b[0m\u001b[0;34m.\u001b[0m\u001b[0mkeep_alive\u001b[0m\u001b[0;34m:\u001b[0m\u001b[0;34m\u001b[0m\u001b[0;34m\u001b[0m\u001b[0m\n\u001b[0;32m--> 311\u001b[0;31m             \u001b[0mresponse\u001b[0m \u001b[0;34m=\u001b[0m \u001b[0mself\u001b[0m\u001b[0;34m.\u001b[0m\u001b[0m_conn\u001b[0m\u001b[0;34m.\u001b[0m\u001b[0mrequest\u001b[0m\u001b[0;34m(\u001b[0m\u001b[0mmethod\u001b[0m\u001b[0;34m,\u001b[0m \u001b[0murl\u001b[0m\u001b[0;34m,\u001b[0m \u001b[0mbody\u001b[0m\u001b[0;34m=\u001b[0m\u001b[0mbody\u001b[0m\u001b[0;34m,\u001b[0m \u001b[0mheaders\u001b[0m\u001b[0;34m=\u001b[0m\u001b[0mheaders\u001b[0m\u001b[0;34m)\u001b[0m\u001b[0;34m\u001b[0m\u001b[0;34m\u001b[0m\u001b[0m\n\u001b[0m\u001b[1;32m    312\u001b[0m             \u001b[0mstatuscode\u001b[0m \u001b[0;34m=\u001b[0m \u001b[0mresponse\u001b[0m\u001b[0;34m.\u001b[0m\u001b[0mstatus\u001b[0m\u001b[0;34m\u001b[0m\u001b[0;34m\u001b[0m\u001b[0m\n\u001b[1;32m    313\u001b[0m         \u001b[0;32melse\u001b[0m\u001b[0;34m:\u001b[0m\u001b[0;34m\u001b[0m\u001b[0;34m\u001b[0m\u001b[0m\n",
      "\u001b[0;32m~/opt/anaconda3/lib/python3.9/site-packages/urllib3/request.py\u001b[0m in \u001b[0;36mrequest\u001b[0;34m(self, method, url, fields, headers, **urlopen_kw)\u001b[0m\n\u001b[1;32m     64\u001b[0m \u001b[0;34m\u001b[0m\u001b[0m\n\u001b[1;32m     65\u001b[0m         \u001b[0;32mif\u001b[0m \u001b[0mmethod\u001b[0m \u001b[0;32min\u001b[0m \u001b[0mself\u001b[0m\u001b[0;34m.\u001b[0m\u001b[0m_encode_url_methods\u001b[0m\u001b[0;34m:\u001b[0m\u001b[0;34m\u001b[0m\u001b[0;34m\u001b[0m\u001b[0m\n\u001b[0;32m---> 66\u001b[0;31m             return self.request_encode_url(method, url, fields=fields,\n\u001b[0m\u001b[1;32m     67\u001b[0m                                            \u001b[0mheaders\u001b[0m\u001b[0;34m=\u001b[0m\u001b[0mheaders\u001b[0m\u001b[0;34m,\u001b[0m\u001b[0;34m\u001b[0m\u001b[0;34m\u001b[0m\u001b[0m\n\u001b[1;32m     68\u001b[0m                                            **urlopen_kw)\n",
      "\u001b[0;32m~/opt/anaconda3/lib/python3.9/site-packages/urllib3/request.py\u001b[0m in \u001b[0;36mrequest_encode_url\u001b[0;34m(self, method, url, fields, headers, **urlopen_kw)\u001b[0m\n\u001b[1;32m     87\u001b[0m             \u001b[0murl\u001b[0m \u001b[0;34m+=\u001b[0m \u001b[0;34m'?'\u001b[0m \u001b[0;34m+\u001b[0m \u001b[0murlencode\u001b[0m\u001b[0;34m(\u001b[0m\u001b[0mfields\u001b[0m\u001b[0;34m)\u001b[0m\u001b[0;34m\u001b[0m\u001b[0;34m\u001b[0m\u001b[0m\n\u001b[1;32m     88\u001b[0m \u001b[0;34m\u001b[0m\u001b[0m\n\u001b[0;32m---> 89\u001b[0;31m         \u001b[0;32mreturn\u001b[0m \u001b[0mself\u001b[0m\u001b[0;34m.\u001b[0m\u001b[0murlopen\u001b[0m\u001b[0;34m(\u001b[0m\u001b[0mmethod\u001b[0m\u001b[0;34m,\u001b[0m \u001b[0murl\u001b[0m\u001b[0;34m,\u001b[0m \u001b[0;34m**\u001b[0m\u001b[0mextra_kw\u001b[0m\u001b[0;34m)\u001b[0m\u001b[0;34m\u001b[0m\u001b[0;34m\u001b[0m\u001b[0m\n\u001b[0m\u001b[1;32m     90\u001b[0m \u001b[0;34m\u001b[0m\u001b[0m\n\u001b[1;32m     91\u001b[0m     def request_encode_body(self, method, url, fields=None, headers=None,\n",
      "\u001b[0;32m~/opt/anaconda3/lib/python3.9/site-packages/urllib3/poolmanager.py\u001b[0m in \u001b[0;36murlopen\u001b[0;34m(self, method, url, redirect, **kw)\u001b[0m\n\u001b[1;32m    322\u001b[0m             \u001b[0mresponse\u001b[0m \u001b[0;34m=\u001b[0m \u001b[0mconn\u001b[0m\u001b[0;34m.\u001b[0m\u001b[0murlopen\u001b[0m\u001b[0;34m(\u001b[0m\u001b[0mmethod\u001b[0m\u001b[0;34m,\u001b[0m \u001b[0murl\u001b[0m\u001b[0;34m,\u001b[0m \u001b[0;34m**\u001b[0m\u001b[0mkw\u001b[0m\u001b[0;34m)\u001b[0m\u001b[0;34m\u001b[0m\u001b[0;34m\u001b[0m\u001b[0m\n\u001b[1;32m    323\u001b[0m         \u001b[0;32melse\u001b[0m\u001b[0;34m:\u001b[0m\u001b[0;34m\u001b[0m\u001b[0;34m\u001b[0m\u001b[0m\n\u001b[0;32m--> 324\u001b[0;31m             \u001b[0mresponse\u001b[0m \u001b[0;34m=\u001b[0m \u001b[0mconn\u001b[0m\u001b[0;34m.\u001b[0m\u001b[0murlopen\u001b[0m\u001b[0;34m(\u001b[0m\u001b[0mmethod\u001b[0m\u001b[0;34m,\u001b[0m \u001b[0mu\u001b[0m\u001b[0;34m.\u001b[0m\u001b[0mrequest_uri\u001b[0m\u001b[0;34m,\u001b[0m \u001b[0;34m**\u001b[0m\u001b[0mkw\u001b[0m\u001b[0;34m)\u001b[0m\u001b[0;34m\u001b[0m\u001b[0;34m\u001b[0m\u001b[0m\n\u001b[0m\u001b[1;32m    325\u001b[0m \u001b[0;34m\u001b[0m\u001b[0m\n\u001b[1;32m    326\u001b[0m         \u001b[0mredirect_location\u001b[0m \u001b[0;34m=\u001b[0m \u001b[0mredirect\u001b[0m \u001b[0;32mand\u001b[0m \u001b[0mresponse\u001b[0m\u001b[0;34m.\u001b[0m\u001b[0mget_redirect_location\u001b[0m\u001b[0;34m(\u001b[0m\u001b[0;34m)\u001b[0m\u001b[0;34m\u001b[0m\u001b[0;34m\u001b[0m\u001b[0m\n",
      "\u001b[0;32m~/opt/anaconda3/lib/python3.9/site-packages/urllib3/connectionpool.py\u001b[0m in \u001b[0;36murlopen\u001b[0;34m(self, method, url, body, headers, retries, redirect, assert_same_host, timeout, pool_timeout, release_conn, chunked, body_pos, **response_kw)\u001b[0m\n\u001b[1;32m    595\u001b[0m \u001b[0;34m\u001b[0m\u001b[0m\n\u001b[1;32m    596\u001b[0m             \u001b[0;31m# Make the request on the httplib connection object.\u001b[0m\u001b[0;34m\u001b[0m\u001b[0;34m\u001b[0m\u001b[0m\n\u001b[0;32m--> 597\u001b[0;31m             httplib_response = self._make_request(conn, method, url,\n\u001b[0m\u001b[1;32m    598\u001b[0m                                                   \u001b[0mtimeout\u001b[0m\u001b[0;34m=\u001b[0m\u001b[0mtimeout_obj\u001b[0m\u001b[0;34m,\u001b[0m\u001b[0;34m\u001b[0m\u001b[0;34m\u001b[0m\u001b[0m\n\u001b[1;32m    599\u001b[0m                                                   \u001b[0mbody\u001b[0m\u001b[0;34m=\u001b[0m\u001b[0mbody\u001b[0m\u001b[0;34m,\u001b[0m \u001b[0mheaders\u001b[0m\u001b[0;34m=\u001b[0m\u001b[0mheaders\u001b[0m\u001b[0;34m,\u001b[0m\u001b[0;34m\u001b[0m\u001b[0;34m\u001b[0m\u001b[0m\n",
      "\u001b[0;32m~/opt/anaconda3/lib/python3.9/site-packages/urllib3/connectionpool.py\u001b[0m in \u001b[0;36m_make_request\u001b[0;34m(self, conn, method, url, timeout, chunked, **httplib_request_kw)\u001b[0m\n\u001b[1;32m    378\u001b[0m             \u001b[0;32mexcept\u001b[0m \u001b[0mTypeError\u001b[0m\u001b[0;34m:\u001b[0m  \u001b[0;31m# Python 3\u001b[0m\u001b[0;34m\u001b[0m\u001b[0;34m\u001b[0m\u001b[0m\n\u001b[1;32m    379\u001b[0m                 \u001b[0;32mtry\u001b[0m\u001b[0;34m:\u001b[0m\u001b[0;34m\u001b[0m\u001b[0;34m\u001b[0m\u001b[0m\n\u001b[0;32m--> 380\u001b[0;31m                     \u001b[0mhttplib_response\u001b[0m \u001b[0;34m=\u001b[0m \u001b[0mconn\u001b[0m\u001b[0;34m.\u001b[0m\u001b[0mgetresponse\u001b[0m\u001b[0;34m(\u001b[0m\u001b[0;34m)\u001b[0m\u001b[0;34m\u001b[0m\u001b[0;34m\u001b[0m\u001b[0m\n\u001b[0m\u001b[1;32m    381\u001b[0m                 \u001b[0;32mexcept\u001b[0m \u001b[0mException\u001b[0m \u001b[0;32mas\u001b[0m \u001b[0me\u001b[0m\u001b[0;34m:\u001b[0m\u001b[0;34m\u001b[0m\u001b[0;34m\u001b[0m\u001b[0m\n\u001b[1;32m    382\u001b[0m                     \u001b[0;31m# Remove the TypeError from the exception chain in Python 3;\u001b[0m\u001b[0;34m\u001b[0m\u001b[0;34m\u001b[0m\u001b[0m\n",
      "\u001b[0;32m~/opt/anaconda3/lib/python3.9/http/client.py\u001b[0m in \u001b[0;36mgetresponse\u001b[0;34m(self)\u001b[0m\n\u001b[1;32m   1375\u001b[0m         \u001b[0;32mtry\u001b[0m\u001b[0;34m:\u001b[0m\u001b[0;34m\u001b[0m\u001b[0;34m\u001b[0m\u001b[0m\n\u001b[1;32m   1376\u001b[0m             \u001b[0;32mtry\u001b[0m\u001b[0;34m:\u001b[0m\u001b[0;34m\u001b[0m\u001b[0;34m\u001b[0m\u001b[0m\n\u001b[0;32m-> 1377\u001b[0;31m                 \u001b[0mresponse\u001b[0m\u001b[0;34m.\u001b[0m\u001b[0mbegin\u001b[0m\u001b[0;34m(\u001b[0m\u001b[0;34m)\u001b[0m\u001b[0;34m\u001b[0m\u001b[0;34m\u001b[0m\u001b[0m\n\u001b[0m\u001b[1;32m   1378\u001b[0m             \u001b[0;32mexcept\u001b[0m \u001b[0mConnectionError\u001b[0m\u001b[0;34m:\u001b[0m\u001b[0;34m\u001b[0m\u001b[0;34m\u001b[0m\u001b[0m\n\u001b[1;32m   1379\u001b[0m                 \u001b[0mself\u001b[0m\u001b[0;34m.\u001b[0m\u001b[0mclose\u001b[0m\u001b[0;34m(\u001b[0m\u001b[0;34m)\u001b[0m\u001b[0;34m\u001b[0m\u001b[0;34m\u001b[0m\u001b[0m\n",
      "\u001b[0;32m~/opt/anaconda3/lib/python3.9/http/client.py\u001b[0m in \u001b[0;36mbegin\u001b[0;34m(self)\u001b[0m\n\u001b[1;32m    318\u001b[0m         \u001b[0;31m# read until we get a non-100 response\u001b[0m\u001b[0;34m\u001b[0m\u001b[0;34m\u001b[0m\u001b[0m\n\u001b[1;32m    319\u001b[0m         \u001b[0;32mwhile\u001b[0m \u001b[0;32mTrue\u001b[0m\u001b[0;34m:\u001b[0m\u001b[0;34m\u001b[0m\u001b[0;34m\u001b[0m\u001b[0m\n\u001b[0;32m--> 320\u001b[0;31m             \u001b[0mversion\u001b[0m\u001b[0;34m,\u001b[0m \u001b[0mstatus\u001b[0m\u001b[0;34m,\u001b[0m \u001b[0mreason\u001b[0m \u001b[0;34m=\u001b[0m \u001b[0mself\u001b[0m\u001b[0;34m.\u001b[0m\u001b[0m_read_status\u001b[0m\u001b[0;34m(\u001b[0m\u001b[0;34m)\u001b[0m\u001b[0;34m\u001b[0m\u001b[0;34m\u001b[0m\u001b[0m\n\u001b[0m\u001b[1;32m    321\u001b[0m             \u001b[0;32mif\u001b[0m \u001b[0mstatus\u001b[0m \u001b[0;34m!=\u001b[0m \u001b[0mCONTINUE\u001b[0m\u001b[0;34m:\u001b[0m\u001b[0;34m\u001b[0m\u001b[0;34m\u001b[0m\u001b[0m\n\u001b[1;32m    322\u001b[0m                 \u001b[0;32mbreak\u001b[0m\u001b[0;34m\u001b[0m\u001b[0;34m\u001b[0m\u001b[0m\n",
      "\u001b[0;32m~/opt/anaconda3/lib/python3.9/http/client.py\u001b[0m in \u001b[0;36m_read_status\u001b[0;34m(self)\u001b[0m\n\u001b[1;32m    279\u001b[0m \u001b[0;34m\u001b[0m\u001b[0m\n\u001b[1;32m    280\u001b[0m     \u001b[0;32mdef\u001b[0m \u001b[0m_read_status\u001b[0m\u001b[0;34m(\u001b[0m\u001b[0mself\u001b[0m\u001b[0;34m)\u001b[0m\u001b[0;34m:\u001b[0m\u001b[0;34m\u001b[0m\u001b[0;34m\u001b[0m\u001b[0m\n\u001b[0;32m--> 281\u001b[0;31m         \u001b[0mline\u001b[0m \u001b[0;34m=\u001b[0m \u001b[0mstr\u001b[0m\u001b[0;34m(\u001b[0m\u001b[0mself\u001b[0m\u001b[0;34m.\u001b[0m\u001b[0mfp\u001b[0m\u001b[0;34m.\u001b[0m\u001b[0mreadline\u001b[0m\u001b[0;34m(\u001b[0m\u001b[0m_MAXLINE\u001b[0m \u001b[0;34m+\u001b[0m \u001b[0;36m1\u001b[0m\u001b[0;34m)\u001b[0m\u001b[0;34m,\u001b[0m \u001b[0;34m\"iso-8859-1\"\u001b[0m\u001b[0;34m)\u001b[0m\u001b[0;34m\u001b[0m\u001b[0;34m\u001b[0m\u001b[0m\n\u001b[0m\u001b[1;32m    282\u001b[0m         \u001b[0;32mif\u001b[0m \u001b[0mlen\u001b[0m\u001b[0;34m(\u001b[0m\u001b[0mline\u001b[0m\u001b[0;34m)\u001b[0m \u001b[0;34m>\u001b[0m \u001b[0m_MAXLINE\u001b[0m\u001b[0;34m:\u001b[0m\u001b[0;34m\u001b[0m\u001b[0;34m\u001b[0m\u001b[0m\n\u001b[1;32m    283\u001b[0m             \u001b[0;32mraise\u001b[0m \u001b[0mLineTooLong\u001b[0m\u001b[0;34m(\u001b[0m\u001b[0;34m\"status line\"\u001b[0m\u001b[0;34m)\u001b[0m\u001b[0;34m\u001b[0m\u001b[0;34m\u001b[0m\u001b[0m\n",
      "\u001b[0;32m~/opt/anaconda3/lib/python3.9/socket.py\u001b[0m in \u001b[0;36mreadinto\u001b[0;34m(self, b)\u001b[0m\n\u001b[1;32m    702\u001b[0m         \u001b[0;32mwhile\u001b[0m \u001b[0;32mTrue\u001b[0m\u001b[0;34m:\u001b[0m\u001b[0;34m\u001b[0m\u001b[0;34m\u001b[0m\u001b[0m\n\u001b[1;32m    703\u001b[0m             \u001b[0;32mtry\u001b[0m\u001b[0;34m:\u001b[0m\u001b[0;34m\u001b[0m\u001b[0;34m\u001b[0m\u001b[0m\n\u001b[0;32m--> 704\u001b[0;31m                 \u001b[0;32mreturn\u001b[0m \u001b[0mself\u001b[0m\u001b[0;34m.\u001b[0m\u001b[0m_sock\u001b[0m\u001b[0;34m.\u001b[0m\u001b[0mrecv_into\u001b[0m\u001b[0;34m(\u001b[0m\u001b[0mb\u001b[0m\u001b[0;34m)\u001b[0m\u001b[0;34m\u001b[0m\u001b[0;34m\u001b[0m\u001b[0m\n\u001b[0m\u001b[1;32m    705\u001b[0m             \u001b[0;32mexcept\u001b[0m \u001b[0mtimeout\u001b[0m\u001b[0;34m:\u001b[0m\u001b[0;34m\u001b[0m\u001b[0;34m\u001b[0m\u001b[0m\n\u001b[1;32m    706\u001b[0m                 \u001b[0mself\u001b[0m\u001b[0;34m.\u001b[0m\u001b[0m_timeout_occurred\u001b[0m \u001b[0;34m=\u001b[0m \u001b[0;32mTrue\u001b[0m\u001b[0;34m\u001b[0m\u001b[0;34m\u001b[0m\u001b[0m\n",
      "\u001b[0;31mKeyboardInterrupt\u001b[0m: "
     ]
    }
   ],
   "source": [
    "# dict_mercadona = {\"name\":[],\"size\":[],\"price\":[], \"url\":[],\"unit_cost\":[],\"units\":[]}\n",
    "dict_mercadona = {\"Group\":[],\"Category\":[],\"Name\":[],\"Size\":[],\"Price\":[], \"Image\":[]}\n",
    "\n",
    "categories_length = len(driver.find_elements(By.CLASS_NAME,\"category-menu__item\"))+1\n",
    "categories_range = range(1,categories_length)\n",
    "\n",
    "categories = [] # Títulos de las categorías\n",
    "sub_header_headers= [] # Títulos de los sub-headers\n",
    "sub_category= []\n",
    "empty =[]\n",
    "\n",
    "category_contador = 0\n",
    "group_contador = 0\n",
    "sub_category_contador = 0\n",
    "\n",
    "def get_product_details(categories,empty,group_contador,category_contador):\n",
    "    # ONCE IN PRODUCT DISPLAY => RECORRER CADA PRODUCTO Y PINCHAR EN ÉL\n",
    "    contenedor = driver.find_element(By.CLASS_NAME,\"category-detail__content\")\n",
    "    contenedores_grupo = contenedor.find_elements(By.CLASS_NAME,\"product-container\")\n",
    "\n",
    "    list_products = []\n",
    "    list_empty = []\n",
    "    \n",
    "    for contenedor in contenedores_grupo:\n",
    "        \n",
    "        product_container = contenedor.find_elements(By.CLASS_NAME,\"product-cell\")\n",
    "        \n",
    "        for product in product_container:\n",
    "            product_image = contenedor.find_element(By.TAG_NAME,\"img\").get_attribute(\"src\")\n",
    "            product_array = product.text.split(\"\\n\")[:-1]\n",
    "            product_array.append(product_image)\n",
    "            \n",
    "            # ADD ALL PRODUCT INFO TO EMPTY ARRAY\n",
    "            dict_mercadona[\"Name\"].append(product_array[0])\n",
    "            dict_mercadona[\"Size\"].append(product_array[1])\n",
    "            dict_mercadona[\"Price\"].append(product_array[2])\n",
    "            dict_mercadona[\"Image\"].append(product_array[-1])\n",
    "            dict_mercadona[\"Group\"].append(categories[group_contador])\n",
    "            dict_mercadona[\"Category\"].append(empty[category_contador])\n",
    "            \n",
    "\n",
    "            list_empty.append(product_array)\n",
    "\n",
    "        list_products.append(list_empty)\n",
    "        list_empty = []\n",
    "\n",
    "\n",
    "for num in categories_range:\n",
    "    \n",
    "    # Nivel 1 => GROUP:\n",
    "    header_a_pinchar = driver.find_elements(By.CSS_SELECTOR,f\"#root > div.grid-layout > div.grid-layout__sidebar > ul > li:nth-child({num}) > div > button\")    \n",
    "    categories.append(header_a_pinchar[0].text)\n",
    "    header_a_pinchar[0].click()\n",
    "    time.sleep(1)\n",
    "\n",
    "    # Nivel 2 => CATEGORÍAS:\n",
    "    sub_category_length = len(driver.find_elements(By.CSS_SELECTOR,\"#root > div.grid-layout > div.grid-layout__sidebar > ul > li.category-menu__item.open > div > ul\")[0].text.split(\"\\n\"))+1\n",
    "    number_of_sub_headers = range(1,sub_category_length)\n",
    "\n",
    "\n",
    "    # Pincha todos los botones sub headers y almacena los títulos\n",
    "    for i in number_of_sub_headers:\n",
    "\n",
    "        sub_header_button = driver.find_elements(By.CSS_SELECTOR,f\"#root > div.grid-layout > div.grid-layout__sidebar > ul > li.category-menu__item.open > div > ul > li:nth-child({i}) > button\")        \n",
    "        empty.append(sub_header_button[0].text)\n",
    "        sub_header_button[0].click()\n",
    "        time.sleep(1)\n",
    "        # Una vez en el bloque adecuado cogemos todos los productos\n",
    "        get_product_details(categories,empty,group_contador,category_contador)\n",
    "        category_contador+=1\n",
    "        sub_category_contador+=1\n",
    "\n",
    "    group_contador+=1\n",
    "    \n",
    "    # sub_header_headers.append(empty)\n",
    "    # empty =[]\n",
    "     \n",
    "\n",
    "\n",
    "df_mercadona = pd.DataFrame(dict_mercadona)\n"
   ]
  },
  {
   "cell_type": "code",
   "execution_count": 47,
   "metadata": {},
   "outputs": [
    {
     "ename": "IndentationError",
     "evalue": "expected an indented block (2338027167.py, line 13)",
     "output_type": "error",
     "traceback": [
      "\u001b[0;36m  File \u001b[0;32m\"/var/folders/j0/w6j4gtqn3qgbyxvxzx172r_m0000gn/T/ipykernel_30971/2338027167.py\"\u001b[0;36m, line \u001b[0;32m13\u001b[0m\n\u001b[0;31m    \u001b[0m\n\u001b[0m    ^\u001b[0m\n\u001b[0;31mIndentationError\u001b[0m\u001b[0;31m:\u001b[0m expected an indented block\n"
     ]
    }
   ],
   "source": [
    "prices = df_mercadona[\"Price\"]\n",
    "formated_prices = []\n",
    "\n",
    "for price in prices:\n",
    "\n",
    "    if len(price)<5:\n",
    "        print(price)\n",
    "        # formated_prices.append(float(price.split(\" \")[0].replace(\",\",\".\")))\n",
    "    else:\n",
    "        # formated_prices.append(\"NaN\")\n",
    "\n",
    "    \n",
    "\n",
    "# print(formated_prices)\n"
   ]
  },
  {
   "cell_type": "code",
   "execution_count": 18,
   "metadata": {},
   "outputs": [],
   "source": [
    "df_mercadona['Shop'] = 'Mercadona'\n",
    "\n",
    "today = pd.Timestamp.now()\n",
    "df_mercadona['Date'] = today"
   ]
  },
  {
   "cell_type": "code",
   "execution_count": 19,
   "metadata": {},
   "outputs": [
    {
     "data": {
      "text/html": [
       "<div>\n",
       "<style scoped>\n",
       "    .dataframe tbody tr th:only-of-type {\n",
       "        vertical-align: middle;\n",
       "    }\n",
       "\n",
       "    .dataframe tbody tr th {\n",
       "        vertical-align: top;\n",
       "    }\n",
       "\n",
       "    .dataframe thead th {\n",
       "        text-align: right;\n",
       "    }\n",
       "</style>\n",
       "<table border=\"1\" class=\"dataframe\">\n",
       "  <thead>\n",
       "    <tr style=\"text-align: right;\">\n",
       "      <th></th>\n",
       "      <th>Group</th>\n",
       "      <th>Category</th>\n",
       "      <th>Name</th>\n",
       "      <th>Size</th>\n",
       "      <th>Price</th>\n",
       "      <th>Image</th>\n",
       "      <th>Shop</th>\n",
       "      <th>Date</th>\n",
       "    </tr>\n",
       "  </thead>\n",
       "  <tbody>\n",
       "    <tr>\n",
       "      <th>0</th>\n",
       "      <td>Aceite, especias y salsas</td>\n",
       "      <td>Aceite, vinagre y sal</td>\n",
       "      <td>Aceite de oliva 0,4º Hacendado</td>\n",
       "      <td>Garrafa 5 L</td>\n",
       "      <td>23,63 € /ud.</td>\n",
       "      <td>https://prod-mercadona.imgix.net/images/e4b36f...</td>\n",
       "      <td>Mercadona</td>\n",
       "      <td>2023-03-05 23:49:51.711541</td>\n",
       "    </tr>\n",
       "    <tr>\n",
       "      <th>1</th>\n",
       "      <td>Aceite, especias y salsas</td>\n",
       "      <td>Aceite, vinagre y sal</td>\n",
       "      <td>Aceite de oliva 0,4º Hacendado</td>\n",
       "      <td>Botella 1 L</td>\n",
       "      <td>4,77 € /ud.</td>\n",
       "      <td>https://prod-mercadona.imgix.net/images/e4b36f...</td>\n",
       "      <td>Mercadona</td>\n",
       "      <td>2023-03-05 23:49:51.711541</td>\n",
       "    </tr>\n",
       "    <tr>\n",
       "      <th>2</th>\n",
       "      <td>Aceite, especias y salsas</td>\n",
       "      <td>Aceite, vinagre y sal</td>\n",
       "      <td>Aceite de oliva virgen extra Hacendado</td>\n",
       "      <td>Garrafa 3 L</td>\n",
       "      <td>16,75 € /ud.</td>\n",
       "      <td>https://prod-mercadona.imgix.net/images/e4b36f...</td>\n",
       "      <td>Mercadona</td>\n",
       "      <td>2023-03-05 23:49:51.711541</td>\n",
       "    </tr>\n",
       "    <tr>\n",
       "      <th>3</th>\n",
       "      <td>Aceite, especias y salsas</td>\n",
       "      <td>Aceite, vinagre y sal</td>\n",
       "      <td>Aceite de oliva virgen extra Hacendado</td>\n",
       "      <td>Botella 1 L</td>\n",
       "      <td>5,63 € /ud.</td>\n",
       "      <td>https://prod-mercadona.imgix.net/images/e4b36f...</td>\n",
       "      <td>Mercadona</td>\n",
       "      <td>2023-03-05 23:49:51.711541</td>\n",
       "    </tr>\n",
       "    <tr>\n",
       "      <th>4</th>\n",
       "      <td>Aceite, especias y salsas</td>\n",
       "      <td>Aceite, vinagre y sal</td>\n",
       "      <td>Aceite de oliva virgen extra Hacendado Gran Se...</td>\n",
       "      <td>Botella 750 ml</td>\n",
       "      <td>5,11 € /ud.</td>\n",
       "      <td>https://prod-mercadona.imgix.net/images/e4b36f...</td>\n",
       "      <td>Mercadona</td>\n",
       "      <td>2023-03-05 23:49:51.711541</td>\n",
       "    </tr>\n",
       "    <tr>\n",
       "      <th>...</th>\n",
       "      <td>...</td>\n",
       "      <td>...</td>\n",
       "      <td>...</td>\n",
       "      <td>...</td>\n",
       "      <td>...</td>\n",
       "      <td>...</td>\n",
       "      <td>...</td>\n",
       "      <td>...</td>\n",
       "    </tr>\n",
       "    <tr>\n",
       "      <th>5357</th>\n",
       "      <td>Zumos</td>\n",
       "      <td>Tomate y otros sabores</td>\n",
       "      <td>Bebida de pomelo Hacendado sin azúcares añadidos</td>\n",
       "      <td>Brick 1 L</td>\n",
       "      <td>1,25 € /ud.</td>\n",
       "      <td>https://prod-mercadona.imgix.net/images/ec1076...</td>\n",
       "      <td>Mercadona</td>\n",
       "      <td>2023-03-05 23:49:51.711541</td>\n",
       "    </tr>\n",
       "    <tr>\n",
       "      <th>5358</th>\n",
       "      <td>Zumos</td>\n",
       "      <td>Tomate y otros sabores</td>\n",
       "      <td>Bebida guayaba Hacendado sin azúcares añadidos</td>\n",
       "      <td>Brick 1 L</td>\n",
       "      <td>1,30 € /ud.</td>\n",
       "      <td>https://prod-mercadona.imgix.net/images/ec1076...</td>\n",
       "      <td>Mercadona</td>\n",
       "      <td>2023-03-05 23:49:51.711541</td>\n",
       "    </tr>\n",
       "    <tr>\n",
       "      <th>5359</th>\n",
       "      <td>Zumos</td>\n",
       "      <td>Tomate y otros sabores</td>\n",
       "      <td>Bebida de pera Hacendado sin azúcares añadidos</td>\n",
       "      <td>Brick 1 L</td>\n",
       "      <td>1,10 € /ud.</td>\n",
       "      <td>https://prod-mercadona.imgix.net/images/ec1076...</td>\n",
       "      <td>Mercadona</td>\n",
       "      <td>2023-03-05 23:49:51.711541</td>\n",
       "    </tr>\n",
       "    <tr>\n",
       "      <th>5360</th>\n",
       "      <td>Zumos</td>\n",
       "      <td>Tomate y otros sabores</td>\n",
       "      <td>Zumo de pomelo Hacendado</td>\n",
       "      <td>Brick 1 L</td>\n",
       "      <td>1,45 € /ud.</td>\n",
       "      <td>https://prod-mercadona.imgix.net/images/ec1076...</td>\n",
       "      <td>Mercadona</td>\n",
       "      <td>2023-03-05 23:49:51.711541</td>\n",
       "    </tr>\n",
       "    <tr>\n",
       "      <th>5361</th>\n",
       "      <td>Zumos</td>\n",
       "      <td>Tomate y otros sabores</td>\n",
       "      <td>Zumo de manzana selección Hacendado</td>\n",
       "      <td>Brick 1 L</td>\n",
       "      <td>1,50 € /ud.</td>\n",
       "      <td>https://prod-mercadona.imgix.net/images/ec1076...</td>\n",
       "      <td>Mercadona</td>\n",
       "      <td>2023-03-05 23:49:51.711541</td>\n",
       "    </tr>\n",
       "  </tbody>\n",
       "</table>\n",
       "<p>5362 rows × 8 columns</p>\n",
       "</div>"
      ],
      "text/plain": [
       "                          Group                Category  \\\n",
       "0     Aceite, especias y salsas   Aceite, vinagre y sal   \n",
       "1     Aceite, especias y salsas   Aceite, vinagre y sal   \n",
       "2     Aceite, especias y salsas   Aceite, vinagre y sal   \n",
       "3     Aceite, especias y salsas   Aceite, vinagre y sal   \n",
       "4     Aceite, especias y salsas   Aceite, vinagre y sal   \n",
       "...                         ...                     ...   \n",
       "5357                      Zumos  Tomate y otros sabores   \n",
       "5358                      Zumos  Tomate y otros sabores   \n",
       "5359                      Zumos  Tomate y otros sabores   \n",
       "5360                      Zumos  Tomate y otros sabores   \n",
       "5361                      Zumos  Tomate y otros sabores   \n",
       "\n",
       "                                                   Name            Size  \\\n",
       "0                        Aceite de oliva 0,4º Hacendado     Garrafa 5 L   \n",
       "1                        Aceite de oliva 0,4º Hacendado     Botella 1 L   \n",
       "2                Aceite de oliva virgen extra Hacendado     Garrafa 3 L   \n",
       "3                Aceite de oliva virgen extra Hacendado     Botella 1 L   \n",
       "4     Aceite de oliva virgen extra Hacendado Gran Se...  Botella 750 ml   \n",
       "...                                                 ...             ...   \n",
       "5357   Bebida de pomelo Hacendado sin azúcares añadidos       Brick 1 L   \n",
       "5358     Bebida guayaba Hacendado sin azúcares añadidos       Brick 1 L   \n",
       "5359     Bebida de pera Hacendado sin azúcares añadidos       Brick 1 L   \n",
       "5360                           Zumo de pomelo Hacendado       Brick 1 L   \n",
       "5361                Zumo de manzana selección Hacendado       Brick 1 L   \n",
       "\n",
       "             Price                                              Image  \\\n",
       "0     23,63 € /ud.  https://prod-mercadona.imgix.net/images/e4b36f...   \n",
       "1      4,77 € /ud.  https://prod-mercadona.imgix.net/images/e4b36f...   \n",
       "2     16,75 € /ud.  https://prod-mercadona.imgix.net/images/e4b36f...   \n",
       "3      5,63 € /ud.  https://prod-mercadona.imgix.net/images/e4b36f...   \n",
       "4      5,11 € /ud.  https://prod-mercadona.imgix.net/images/e4b36f...   \n",
       "...            ...                                                ...   \n",
       "5357   1,25 € /ud.  https://prod-mercadona.imgix.net/images/ec1076...   \n",
       "5358   1,30 € /ud.  https://prod-mercadona.imgix.net/images/ec1076...   \n",
       "5359   1,10 € /ud.  https://prod-mercadona.imgix.net/images/ec1076...   \n",
       "5360   1,45 € /ud.  https://prod-mercadona.imgix.net/images/ec1076...   \n",
       "5361   1,50 € /ud.  https://prod-mercadona.imgix.net/images/ec1076...   \n",
       "\n",
       "           Shop                       Date  \n",
       "0     Mercadona 2023-03-05 23:49:51.711541  \n",
       "1     Mercadona 2023-03-05 23:49:51.711541  \n",
       "2     Mercadona 2023-03-05 23:49:51.711541  \n",
       "3     Mercadona 2023-03-05 23:49:51.711541  \n",
       "4     Mercadona 2023-03-05 23:49:51.711541  \n",
       "...         ...                        ...  \n",
       "5357  Mercadona 2023-03-05 23:49:51.711541  \n",
       "5358  Mercadona 2023-03-05 23:49:51.711541  \n",
       "5359  Mercadona 2023-03-05 23:49:51.711541  \n",
       "5360  Mercadona 2023-03-05 23:49:51.711541  \n",
       "5361  Mercadona 2023-03-05 23:49:51.711541  \n",
       "\n",
       "[5362 rows x 8 columns]"
      ]
     },
     "execution_count": 19,
     "metadata": {},
     "output_type": "execute_result"
    }
   ],
   "source": [
    "df_mercadona"
   ]
  },
  {
   "cell_type": "markdown",
   "metadata": {},
   "source": [
    "#### CREATE CSV + SAVE AS EXCEL"
   ]
  },
  {
   "cell_type": "code",
   "execution_count": 20,
   "metadata": {},
   "outputs": [],
   "source": [
    "df_mercadona.to_csv(\"./data/mercadona.csv\",index=False)\n",
    "\n",
    "read_file = pd.read_csv (\"./data/mercadona.csv\")\n",
    "read_file.to_excel (\"./data/mercadona.xlsx\", index = None, header=True)"
   ]
  },
  {
   "cell_type": "markdown",
   "metadata": {},
   "source": [
    "#### APPEND TO EXISTING FILE"
   ]
  },
  {
   "cell_type": "code",
   "execution_count": 57,
   "metadata": {},
   "outputs": [],
   "source": [
    "df_mercadona.to_csv(\"./data/mercadona.csv\", mode='a', index=False, header=False)\n",
    "\n",
    "read_file = pd.read_csv (\"./data/mercadona.csv\")\n",
    "read_file.to_excel (\"./data/mercadona.xlsx\", index = None, header=True)\n"
   ]
  },
  {
   "cell_type": "code",
   "execution_count": 12,
   "metadata": {},
   "outputs": [
    {
     "data": {
      "text/html": [
       "<div>\n",
       "<style scoped>\n",
       "    .dataframe tbody tr th:only-of-type {\n",
       "        vertical-align: middle;\n",
       "    }\n",
       "\n",
       "    .dataframe tbody tr th {\n",
       "        vertical-align: top;\n",
       "    }\n",
       "\n",
       "    .dataframe thead th {\n",
       "        text-align: right;\n",
       "    }\n",
       "</style>\n",
       "<table border=\"1\" class=\"dataframe\">\n",
       "  <thead>\n",
       "    <tr style=\"text-align: right;\">\n",
       "      <th></th>\n",
       "      <th>Group</th>\n",
       "      <th>Category</th>\n",
       "      <th>Name</th>\n",
       "      <th>Size</th>\n",
       "      <th>Price</th>\n",
       "      <th>Image</th>\n",
       "      <th>Shop</th>\n",
       "      <th>Date</th>\n",
       "    </tr>\n",
       "  </thead>\n",
       "  <tbody>\n",
       "    <tr>\n",
       "      <th>0</th>\n",
       "      <td>Aceite, especias y salsas,\"Aceite, vinagre y s...</td>\n",
       "      <td>NaN</td>\n",
       "      <td>NaN</td>\n",
       "      <td>NaN</td>\n",
       "      <td>NaN</td>\n",
       "      <td>NaN</td>\n",
       "      <td>NaN</td>\n",
       "      <td>NaN</td>\n",
       "    </tr>\n",
       "    <tr>\n",
       "      <th>1</th>\n",
       "      <td>Aceite, especias y salsas,\"Aceite, vinagre y s...</td>\n",
       "      <td>NaN</td>\n",
       "      <td>NaN</td>\n",
       "      <td>NaN</td>\n",
       "      <td>NaN</td>\n",
       "      <td>NaN</td>\n",
       "      <td>NaN</td>\n",
       "      <td>NaN</td>\n",
       "    </tr>\n",
       "    <tr>\n",
       "      <th>2</th>\n",
       "      <td>Aceite, especias y salsas,\"Aceite, vinagre y s...</td>\n",
       "      <td>NaN</td>\n",
       "      <td>NaN</td>\n",
       "      <td>NaN</td>\n",
       "      <td>NaN</td>\n",
       "      <td>NaN</td>\n",
       "      <td>NaN</td>\n",
       "      <td>NaN</td>\n",
       "    </tr>\n",
       "    <tr>\n",
       "      <th>3</th>\n",
       "      <td>Aceite, especias y salsas,\"Aceite, vinagre y s...</td>\n",
       "      <td>NaN</td>\n",
       "      <td>NaN</td>\n",
       "      <td>NaN</td>\n",
       "      <td>NaN</td>\n",
       "      <td>NaN</td>\n",
       "      <td>NaN</td>\n",
       "      <td>NaN</td>\n",
       "    </tr>\n",
       "    <tr>\n",
       "      <th>4</th>\n",
       "      <td>Aceite, especias y salsas,\"Aceite, vinagre y s...</td>\n",
       "      <td>NaN</td>\n",
       "      <td>NaN</td>\n",
       "      <td>NaN</td>\n",
       "      <td>NaN</td>\n",
       "      <td>NaN</td>\n",
       "      <td>NaN</td>\n",
       "      <td>NaN</td>\n",
       "    </tr>\n",
       "    <tr>\n",
       "      <th>...</th>\n",
       "      <td>...</td>\n",
       "      <td>...</td>\n",
       "      <td>...</td>\n",
       "      <td>...</td>\n",
       "      <td>...</td>\n",
       "      <td>...</td>\n",
       "      <td>...</td>\n",
       "      <td>...</td>\n",
       "    </tr>\n",
       "    <tr>\n",
       "      <th>5360</th>\n",
       "      <td>Zumos,Tomate y otros sabores,Bebida de pomelo ...</td>\n",
       "      <td>NaN</td>\n",
       "      <td>NaN</td>\n",
       "      <td>NaN</td>\n",
       "      <td>NaN</td>\n",
       "      <td>NaN</td>\n",
       "      <td>NaN</td>\n",
       "      <td>NaN</td>\n",
       "    </tr>\n",
       "    <tr>\n",
       "      <th>5361</th>\n",
       "      <td>Zumos,Tomate y otros sabores,Bebida guayaba Ha...</td>\n",
       "      <td>NaN</td>\n",
       "      <td>NaN</td>\n",
       "      <td>NaN</td>\n",
       "      <td>NaN</td>\n",
       "      <td>NaN</td>\n",
       "      <td>NaN</td>\n",
       "      <td>NaN</td>\n",
       "    </tr>\n",
       "    <tr>\n",
       "      <th>5362</th>\n",
       "      <td>Zumos,Tomate y otros sabores,Bebida de pera Ha...</td>\n",
       "      <td>NaN</td>\n",
       "      <td>NaN</td>\n",
       "      <td>NaN</td>\n",
       "      <td>NaN</td>\n",
       "      <td>NaN</td>\n",
       "      <td>NaN</td>\n",
       "      <td>NaN</td>\n",
       "    </tr>\n",
       "    <tr>\n",
       "      <th>5363</th>\n",
       "      <td>Zumos,Tomate y otros sabores,Zumo de pomelo Ha...</td>\n",
       "      <td>NaN</td>\n",
       "      <td>NaN</td>\n",
       "      <td>NaN</td>\n",
       "      <td>NaN</td>\n",
       "      <td>NaN</td>\n",
       "      <td>NaN</td>\n",
       "      <td>NaN</td>\n",
       "    </tr>\n",
       "    <tr>\n",
       "      <th>5364</th>\n",
       "      <td>Zumos,Tomate y otros sabores,Zumo de manzana s...</td>\n",
       "      <td>NaN</td>\n",
       "      <td>NaN</td>\n",
       "      <td>NaN</td>\n",
       "      <td>NaN</td>\n",
       "      <td>NaN</td>\n",
       "      <td>NaN</td>\n",
       "      <td>NaN</td>\n",
       "    </tr>\n",
       "  </tbody>\n",
       "</table>\n",
       "<p>5365 rows × 8 columns</p>\n",
       "</div>"
      ],
      "text/plain": [
       "                                                  Group  Category  Name  Size  \\\n",
       "0     Aceite, especias y salsas,\"Aceite, vinagre y s...       NaN   NaN   NaN   \n",
       "1     Aceite, especias y salsas,\"Aceite, vinagre y s...       NaN   NaN   NaN   \n",
       "2     Aceite, especias y salsas,\"Aceite, vinagre y s...       NaN   NaN   NaN   \n",
       "3     Aceite, especias y salsas,\"Aceite, vinagre y s...       NaN   NaN   NaN   \n",
       "4     Aceite, especias y salsas,\"Aceite, vinagre y s...       NaN   NaN   NaN   \n",
       "...                                                 ...       ...   ...   ...   \n",
       "5360  Zumos,Tomate y otros sabores,Bebida de pomelo ...       NaN   NaN   NaN   \n",
       "5361  Zumos,Tomate y otros sabores,Bebida guayaba Ha...       NaN   NaN   NaN   \n",
       "5362  Zumos,Tomate y otros sabores,Bebida de pera Ha...       NaN   NaN   NaN   \n",
       "5363  Zumos,Tomate y otros sabores,Zumo de pomelo Ha...       NaN   NaN   NaN   \n",
       "5364  Zumos,Tomate y otros sabores,Zumo de manzana s...       NaN   NaN   NaN   \n",
       "\n",
       "      Price  Image  Shop  Date  \n",
       "0       NaN    NaN   NaN   NaN  \n",
       "1       NaN    NaN   NaN   NaN  \n",
       "2       NaN    NaN   NaN   NaN  \n",
       "3       NaN    NaN   NaN   NaN  \n",
       "4       NaN    NaN   NaN   NaN  \n",
       "...     ...    ...   ...   ...  \n",
       "5360    NaN    NaN   NaN   NaN  \n",
       "5361    NaN    NaN   NaN   NaN  \n",
       "5362    NaN    NaN   NaN   NaN  \n",
       "5363    NaN    NaN   NaN   NaN  \n",
       "5364    NaN    NaN   NaN   NaN  \n",
       "\n",
       "[5365 rows x 8 columns]"
      ]
     },
     "execution_count": 12,
     "metadata": {},
     "output_type": "execute_result"
    }
   ],
   "source": [
    "mercadona = pd.read_csv(\"./data/mercadona.csv\")\n",
    "mercadona"
   ]
  },
  {
   "cell_type": "code",
   "execution_count": 10,
   "metadata": {},
   "outputs": [
    {
     "data": {
      "text/plain": [
       "23.63"
      ]
     },
     "execution_count": 10,
     "metadata": {},
     "output_type": "execute_result"
    }
   ],
   "source": [
    "price = \"23,63 € /ud.\"\n",
    "\n",
    "float(price.split(\" \")[0].replace(\",\",\".\"))"
   ]
  },
  {
   "cell_type": "code",
   "execution_count": 11,
   "metadata": {},
   "outputs": [
    {
     "ename": "ValueError",
     "evalue": "could not convert string to float: 'https://prod-mercadona.imgix.net/images/0193fc9cf60e3a8661fda34775409fce.jpg?fit=crop&h=300&w=300'",
     "output_type": "error",
     "traceback": [
      "\u001b[0;31m---------------------------------------------------------------------------\u001b[0m",
      "\u001b[0;31mValueError\u001b[0m                                Traceback (most recent call last)",
      "\u001b[0;32m/var/folders/j0/w6j4gtqn3qgbyxvxzx172r_m0000gn/T/ipykernel_30971/1642801738.py\u001b[0m in \u001b[0;36m<module>\u001b[0;34m\u001b[0m\n\u001b[0;32m----> 1\u001b[0;31m \u001b[0mmercadona\u001b[0m\u001b[0;34m[\u001b[0m\u001b[0;34m\"Price\"\u001b[0m\u001b[0;34m]\u001b[0m\u001b[0;34m=\u001b[0m \u001b[0mmercadona\u001b[0m\u001b[0;34m[\u001b[0m\u001b[0;34m\"Price\"\u001b[0m\u001b[0;34m]\u001b[0m\u001b[0;34m.\u001b[0m\u001b[0mapply\u001b[0m\u001b[0;34m(\u001b[0m\u001b[0;32mlambda\u001b[0m \u001b[0mx\u001b[0m\u001b[0;34m:\u001b[0m\u001b[0mfloat\u001b[0m\u001b[0;34m(\u001b[0m\u001b[0mx\u001b[0m\u001b[0;34m.\u001b[0m\u001b[0msplit\u001b[0m\u001b[0;34m(\u001b[0m\u001b[0;34m\" \"\u001b[0m\u001b[0;34m)\u001b[0m\u001b[0;34m[\u001b[0m\u001b[0;36m0\u001b[0m\u001b[0;34m]\u001b[0m\u001b[0;34m.\u001b[0m\u001b[0mreplace\u001b[0m\u001b[0;34m(\u001b[0m\u001b[0;34m\",\"\u001b[0m\u001b[0;34m,\u001b[0m\u001b[0;34m\".\"\u001b[0m\u001b[0;34m)\u001b[0m\u001b[0;34m)\u001b[0m\u001b[0;34m)\u001b[0m\u001b[0;34m\u001b[0m\u001b[0;34m\u001b[0m\u001b[0m\n\u001b[0m\u001b[1;32m      2\u001b[0m \u001b[0mmercadona\u001b[0m\u001b[0;34m[\u001b[0m\u001b[0;34m\"Price\"\u001b[0m\u001b[0;34m]\u001b[0m\u001b[0;34m\u001b[0m\u001b[0;34m\u001b[0m\u001b[0m\n",
      "\u001b[0;32m~/opt/anaconda3/lib/python3.9/site-packages/pandas/core/series.py\u001b[0m in \u001b[0;36mapply\u001b[0;34m(self, func, convert_dtype, args, **kwargs)\u001b[0m\n\u001b[1;32m   4431\u001b[0m         \u001b[0mdtype\u001b[0m\u001b[0;34m:\u001b[0m \u001b[0mfloat64\u001b[0m\u001b[0;34m\u001b[0m\u001b[0;34m\u001b[0m\u001b[0m\n\u001b[1;32m   4432\u001b[0m         \"\"\"\n\u001b[0;32m-> 4433\u001b[0;31m         \u001b[0;32mreturn\u001b[0m \u001b[0mSeriesApply\u001b[0m\u001b[0;34m(\u001b[0m\u001b[0mself\u001b[0m\u001b[0;34m,\u001b[0m \u001b[0mfunc\u001b[0m\u001b[0;34m,\u001b[0m \u001b[0mconvert_dtype\u001b[0m\u001b[0;34m,\u001b[0m \u001b[0margs\u001b[0m\u001b[0;34m,\u001b[0m \u001b[0mkwargs\u001b[0m\u001b[0;34m)\u001b[0m\u001b[0;34m.\u001b[0m\u001b[0mapply\u001b[0m\u001b[0;34m(\u001b[0m\u001b[0;34m)\u001b[0m\u001b[0;34m\u001b[0m\u001b[0;34m\u001b[0m\u001b[0m\n\u001b[0m\u001b[1;32m   4434\u001b[0m \u001b[0;34m\u001b[0m\u001b[0m\n\u001b[1;32m   4435\u001b[0m     def _reduce(\n",
      "\u001b[0;32m~/opt/anaconda3/lib/python3.9/site-packages/pandas/core/apply.py\u001b[0m in \u001b[0;36mapply\u001b[0;34m(self)\u001b[0m\n\u001b[1;32m   1086\u001b[0m             \u001b[0;32mreturn\u001b[0m \u001b[0mself\u001b[0m\u001b[0;34m.\u001b[0m\u001b[0mapply_str\u001b[0m\u001b[0;34m(\u001b[0m\u001b[0;34m)\u001b[0m\u001b[0;34m\u001b[0m\u001b[0;34m\u001b[0m\u001b[0m\n\u001b[1;32m   1087\u001b[0m \u001b[0;34m\u001b[0m\u001b[0m\n\u001b[0;32m-> 1088\u001b[0;31m         \u001b[0;32mreturn\u001b[0m \u001b[0mself\u001b[0m\u001b[0;34m.\u001b[0m\u001b[0mapply_standard\u001b[0m\u001b[0;34m(\u001b[0m\u001b[0;34m)\u001b[0m\u001b[0;34m\u001b[0m\u001b[0;34m\u001b[0m\u001b[0m\n\u001b[0m\u001b[1;32m   1089\u001b[0m \u001b[0;34m\u001b[0m\u001b[0m\n\u001b[1;32m   1090\u001b[0m     \u001b[0;32mdef\u001b[0m \u001b[0magg\u001b[0m\u001b[0;34m(\u001b[0m\u001b[0mself\u001b[0m\u001b[0;34m)\u001b[0m\u001b[0;34m:\u001b[0m\u001b[0;34m\u001b[0m\u001b[0;34m\u001b[0m\u001b[0m\n",
      "\u001b[0;32m~/opt/anaconda3/lib/python3.9/site-packages/pandas/core/apply.py\u001b[0m in \u001b[0;36mapply_standard\u001b[0;34m(self)\u001b[0m\n\u001b[1;32m   1141\u001b[0m                 \u001b[0;31m# List[Union[Callable[..., Any], str]]]]]\"; expected\u001b[0m\u001b[0;34m\u001b[0m\u001b[0;34m\u001b[0m\u001b[0m\n\u001b[1;32m   1142\u001b[0m                 \u001b[0;31m# \"Callable[[Any], Any]\"\u001b[0m\u001b[0;34m\u001b[0m\u001b[0;34m\u001b[0m\u001b[0m\n\u001b[0;32m-> 1143\u001b[0;31m                 mapped = lib.map_infer(\n\u001b[0m\u001b[1;32m   1144\u001b[0m                     \u001b[0mvalues\u001b[0m\u001b[0;34m,\u001b[0m\u001b[0;34m\u001b[0m\u001b[0;34m\u001b[0m\u001b[0m\n\u001b[1;32m   1145\u001b[0m                     \u001b[0mf\u001b[0m\u001b[0;34m,\u001b[0m  \u001b[0;31m# type: ignore[arg-type]\u001b[0m\u001b[0;34m\u001b[0m\u001b[0;34m\u001b[0m\u001b[0m\n",
      "\u001b[0;32m~/opt/anaconda3/lib/python3.9/site-packages/pandas/_libs/lib.pyx\u001b[0m in \u001b[0;36mpandas._libs.lib.map_infer\u001b[0;34m()\u001b[0m\n",
      "\u001b[0;32m/var/folders/j0/w6j4gtqn3qgbyxvxzx172r_m0000gn/T/ipykernel_30971/1642801738.py\u001b[0m in \u001b[0;36m<lambda>\u001b[0;34m(x)\u001b[0m\n\u001b[0;32m----> 1\u001b[0;31m \u001b[0mmercadona\u001b[0m\u001b[0;34m[\u001b[0m\u001b[0;34m\"Price\"\u001b[0m\u001b[0;34m]\u001b[0m\u001b[0;34m=\u001b[0m \u001b[0mmercadona\u001b[0m\u001b[0;34m[\u001b[0m\u001b[0;34m\"Price\"\u001b[0m\u001b[0;34m]\u001b[0m\u001b[0;34m.\u001b[0m\u001b[0mapply\u001b[0m\u001b[0;34m(\u001b[0m\u001b[0;32mlambda\u001b[0m \u001b[0mx\u001b[0m\u001b[0;34m:\u001b[0m\u001b[0mfloat\u001b[0m\u001b[0;34m(\u001b[0m\u001b[0mx\u001b[0m\u001b[0;34m.\u001b[0m\u001b[0msplit\u001b[0m\u001b[0;34m(\u001b[0m\u001b[0;34m\" \"\u001b[0m\u001b[0;34m)\u001b[0m\u001b[0;34m[\u001b[0m\u001b[0;36m0\u001b[0m\u001b[0;34m]\u001b[0m\u001b[0;34m.\u001b[0m\u001b[0mreplace\u001b[0m\u001b[0;34m(\u001b[0m\u001b[0;34m\",\"\u001b[0m\u001b[0;34m,\u001b[0m\u001b[0;34m\".\"\u001b[0m\u001b[0;34m)\u001b[0m\u001b[0;34m)\u001b[0m\u001b[0;34m)\u001b[0m\u001b[0;34m\u001b[0m\u001b[0;34m\u001b[0m\u001b[0m\n\u001b[0m\u001b[1;32m      2\u001b[0m \u001b[0mmercadona\u001b[0m\u001b[0;34m[\u001b[0m\u001b[0;34m\"Price\"\u001b[0m\u001b[0;34m]\u001b[0m\u001b[0;34m\u001b[0m\u001b[0;34m\u001b[0m\u001b[0m\n",
      "\u001b[0;31mValueError\u001b[0m: could not convert string to float: 'https://prod-mercadona.imgix.net/images/0193fc9cf60e3a8661fda34775409fce.jpg?fit=crop&h=300&w=300'"
     ]
    }
   ],
   "source": [
    "mercadona[\"Price\"]= mercadona[\"Price\"].apply(lambda x:float(x.split(\" \")[0].replace(\",\",\".\")))\n",
    "mercadona[\"Price\"]"
   ]
  },
  {
   "cell_type": "markdown",
   "metadata": {},
   "source": [
    "### Format date so that pandas can understand them"
   ]
  },
  {
   "cell_type": "code",
   "execution_count": 667,
   "metadata": {},
   "outputs": [],
   "source": [
    "mercadona['Date'] = pd.to_datetime(mercadona['Date'])"
   ]
  },
  {
   "cell_type": "code",
   "execution_count": 668,
   "metadata": {},
   "outputs": [
    {
     "name": "stdout",
     "output_type": "stream",
     "text": [
      "<class 'pandas.core.frame.DataFrame'>\n",
      "RangeIndex: 1266 entries, 0 to 1265\n",
      "Data columns (total 8 columns):\n",
      " #   Column    Non-Null Count  Dtype         \n",
      "---  ------    --------------  -----         \n",
      " 0   Group     1266 non-null   object        \n",
      " 1   Category  1266 non-null   object        \n",
      " 2   Name      1266 non-null   object        \n",
      " 3   Size      1266 non-null   object        \n",
      " 4   Price     1266 non-null   object        \n",
      " 5   Image     1266 non-null   object        \n",
      " 6   Shop      1266 non-null   object        \n",
      " 7   Date      1266 non-null   datetime64[ns]\n",
      "dtypes: datetime64[ns](1), object(7)\n",
      "memory usage: 79.2+ KB\n"
     ]
    }
   ],
   "source": [
    "mercadona.info()"
   ]
  },
  {
   "cell_type": "code",
   "execution_count": 366,
   "metadata": {},
   "outputs": [
    {
     "data": {
      "text/plain": [
       "['Aceite, especias y salsas', 'Agua y refrescos']"
      ]
     },
     "execution_count": 366,
     "metadata": {},
     "output_type": "execute_result"
    }
   ],
   "source": [
    "categories"
   ]
  },
  {
   "cell_type": "code",
   "execution_count": 367,
   "metadata": {},
   "outputs": [
    {
     "data": {
      "text/plain": [
       "[['Aceite, vinagre y sal',\n",
       "  'Especias',\n",
       "  'Mayonesa, ketchup y mostaza',\n",
       "  'Otras salsas'],\n",
       " ['Agua',\n",
       "  'Isotónico y energético',\n",
       "  'Refresco de cola',\n",
       "  'Refresco de naranja y de limón',\n",
       "  'Tónica y bitter',\n",
       "  'Refresco de té y sin gas']]"
      ]
     },
     "execution_count": 367,
     "metadata": {},
     "output_type": "execute_result"
    }
   ],
   "source": [
    "sub_header_headers"
   ]
  },
  {
   "cell_type": "code",
   "execution_count": 42,
   "metadata": {},
   "outputs": [
    {
     "name": "stdout",
     "output_type": "stream",
     "text": [
      "Fregonas, escobas y mopas\n",
      "Cubos y barreños\n",
      "Otros utensilios de limpieza\n",
      "Limpieza de calzado\n"
     ]
    }
   ],
   "source": [
    "category_container = driver.find_element(By.CLASS_NAME,\"category-detail__content\")\n",
    "longitud_contenedores_pequeños = len(category_container.find_elements(By.CLASS_NAME,\"section\"))\n",
    "h2_contenedor = category_container.find_elements(By.TAG_NAME,\"h2\")\n",
    "\n",
    "for i in h2_contenedor:\n",
    "    print(i.text)"
   ]
  },
  {
   "cell_type": "code",
   "execution_count": 50,
   "metadata": {},
   "outputs": [
    {
     "name": "stdout",
     "output_type": "stream",
     "text": [
      "\n",
      "----------------------\n",
      "\n",
      "[[['Fregona Microfibra Absorbente Bosque Verde', 'Paquete 2 ud.', '2,95 € /ud.', 'https://prod-mercadona.imgix.net/images/0193fc9cf60e3a8661fda34775409fce.jpg?fit=crop&h=300&w=300'], ['Fregona Microfibra Absorbente Bosque Verde', 'Paquete 1 ud.', '1,50 € /ud.', 'https://prod-mercadona.imgix.net/images/0193fc9cf60e3a8661fda34775409fce.jpg?fit=crop&h=300&w=300'], ['Fregona Algodón Bosque Verde', 'Paquete 1 ud.', '1,10 € /ud.', 'https://prod-mercadona.imgix.net/images/0193fc9cf60e3a8661fda34775409fce.jpg?fit=crop&h=300&w=300'], ['Fregona Resistente y Absorbente Bosque Verde', 'Paquete 2 ud.', '1,85 € /ud.', 'https://prod-mercadona.imgix.net/images/0193fc9cf60e3a8661fda34775409fce.jpg?fit=crop&h=300&w=300'], ['Fregona Suave Bosque Verde', 'Paquete 1 ud.', '0,80 € /ud.', 'https://prod-mercadona.imgix.net/images/0193fc9cf60e3a8661fda34775409fce.jpg?fit=crop&h=300&w=300'], ['Fregona Microfibra Resistente Bosque Verde', 'Paquete 1 ud.', '3,80 € /ud.', 'https://prod-mercadona.imgix.net/images/0193fc9cf60e3a8661fda34775409fce.jpg?fit=crop&h=300&w=300'], ['Escoba Bosque Verde', '1 ud.', '1,15 € /ud.', 'https://prod-mercadona.imgix.net/images/0193fc9cf60e3a8661fda34775409fce.jpg?fit=crop&h=300&w=300'], ['Escoba Fibras Cruzadas Bosque Verde', '1 ud.', '2,15 € /ud.', 'https://prod-mercadona.imgix.net/images/0193fc9cf60e3a8661fda34775409fce.jpg?fit=crop&h=300&w=300'], ['Escoba Pequeña Bosque Verde', '1 ud.', '1,70 € /ud.', 'https://prod-mercadona.imgix.net/images/0193fc9cf60e3a8661fda34775409fce.jpg?fit=crop&h=300&w=300'], ['Escoba para Exteriores Bosque Verde', '1 ud.', '2,70 € /ud.', 'https://prod-mercadona.imgix.net/images/0193fc9cf60e3a8661fda34775409fce.jpg?fit=crop&h=300&w=300'], ['Mopa atrapa polvo Bosque Verde multiusos', 'Paquete 1 ud.', '3,30 € /ud.', 'https://prod-mercadona.imgix.net/images/0193fc9cf60e3a8661fda34775409fce.jpg?fit=crop&h=300&w=300'], ['Gamuzas atrapa polvo Bosque Verde', 'Paquete 30 ud.', '1,95 € /ud.', 'https://prod-mercadona.imgix.net/images/0193fc9cf60e3a8661fda34775409fce.jpg?fit=crop&h=300&w=300'], ['Recambio mopa microfibra pequeño Bosque Verde', 'Paquete 1 ud.', '3,50 € /ud.', 'https://prod-mercadona.imgix.net/images/0193fc9cf60e3a8661fda34775409fce.jpg?fit=crop&h=300&w=300'], ['Plataforma mopa grande abrillantadora Bosque Verde', 'Paquete 1 ud.', '2,70 € /ud.', 'https://prod-mercadona.imgix.net/images/0193fc9cf60e3a8661fda34775409fce.jpg?fit=crop&h=300&w=300'], ['Recambio mopa microfibra grande Bosque Verde', 'Paquete 1 ud.', '4,60 € /ud.', 'https://prod-mercadona.imgix.net/images/0193fc9cf60e3a8661fda34775409fce.jpg?fit=crop&h=300&w=300'], ['Toallitas limpiadoras de suelo Bosque Verde', 'Paquete 20 ud.', '1,60 € /ud.', 'https://prod-mercadona.imgix.net/images/0193fc9cf60e3a8661fda34775409fce.jpg?fit=crop&h=300&w=300'], ['Recogedor antivuelco con palo Bosque Verde', '1 ud.', '1,60 € /ud.', 'https://prod-mercadona.imgix.net/images/0193fc9cf60e3a8661fda34775409fce.jpg?fit=crop&h=300&w=300'], ['Palo extensible antideslizante Bosque Verde 88 - 150 cm', '1 ud.', '2,80 € /ud.', 'https://prod-mercadona.imgix.net/images/0193fc9cf60e3a8661fda34775409fce.jpg?fit=crop&h=300&w=300'], ['Palo antideslizante Bosque Verde 140 cm', '1,90 € /ud.', 'https://prod-mercadona.imgix.net/images/0193fc9cf60e3a8661fda34775409fce.jpg?fit=crop&h=300&w=300']], [['Cubo redondo 12L Bosque Verde', '1 ud.', '2,55 € /ud.', 'https://prod-mercadona.imgix.net/images/4ed9dc10adf327d693f1541c3430833f.jpg?fit=crop&h=300&w=300'], ['Escurridor para cubo redondo Bosque Verde', '1 ud.', '1,00 € /ud.', 'https://prod-mercadona.imgix.net/images/4ed9dc10adf327d693f1541c3430833f.jpg?fit=crop&h=300&w=300'], ['Escurridor para cubo ovalado Bosque Verde', '1 ud.', '2,25 € /ud.', 'https://prod-mercadona.imgix.net/images/4ed9dc10adf327d693f1541c3430833f.jpg?fit=crop&h=300&w=300'], ['Cubo ovalado con ruedas 15L Bosque Verde', '1 ud.', '3,25 € /ud.', 'https://prod-mercadona.imgix.net/images/4ed9dc10adf327d693f1541c3430833f.jpg?fit=crop&h=300&w=300'], ['Cubo de basura reciclaje 50L (30L + 10L) Bosque Verde 35,5 x 41,5 x 45 cm', 'Cubo 1 ud.', '15,50 € /ud.', 'https://prod-mercadona.imgix.net/images/4ed9dc10adf327d693f1541c3430833f.jpg?fit=crop&h=300&w=300'], ['Cubo de basura mediano 30L Bosque Verde 30,2 x 30,5 x 41,9 cm', 'Cubo 1 ud.', '8,50 € /ud.', 'https://prod-mercadona.imgix.net/images/4ed9dc10adf327d693f1541c3430833f.jpg?fit=crop&h=300&w=300'], ['Cubo de basura pequeño 10L Bosque Verde 24,1 x 25 x 24,7 cm', '1 ud.', '7,30 € /ud.', 'https://prod-mercadona.imgix.net/images/4ed9dc10adf327d693f1541c3430833f.jpg?fit=crop&h=300&w=300'], ['Barreño ovalado 9,8L Bosque Verde', '1 ud.', '2,20 € /ud.', 'https://prod-mercadona.imgix.net/images/4ed9dc10adf327d693f1541c3430833f.jpg?fit=crop&h=300&w=300']], [['Pinzas de plástico Bosque Verde gigantes', 'Paquete 12 ud.', '1,25 € /ud.', 'https://prod-mercadona.imgix.net/images/8cd7cecaa445a3915ef36886006c0904.jpg?fit=crop&h=300&w=300'], ['Funda para lavadora', 'Paquete 1 ud.', '2,75 € /ud.', 'https://prod-mercadona.imgix.net/images/8cd7cecaa445a3915ef36886006c0904.jpg?fit=crop&h=300&w=300'], ['Rodillo quitapelusas Bosque Verde', '1 ud.', '1,75 € /ud.', 'https://prod-mercadona.imgix.net/images/8cd7cecaa445a3915ef36886006c0904.jpg?fit=crop&h=300&w=300'], ['Cepillo para lavar con asa Bosque Verde', '1 ud.', '1,20 € /ud.', 'https://prod-mercadona.imgix.net/images/8cd7cecaa445a3915ef36886006c0904.jpg?fit=crop&h=300&w=300'], ['Escobilla para WC Bosque Verde', '1 ud.', '3,00 € /ud.', 'https://prod-mercadona.imgix.net/images/8cd7cecaa445a3915ef36886006c0904.jpg?fit=crop&h=300&w=300'], ['Recambios plumero Bosque Verde', 'Caja 5 ud.', '1,85 € /ud.', 'https://prod-mercadona.imgix.net/images/8cd7cecaa445a3915ef36886006c0904.jpg?fit=crop&h=300&w=300'], ['Plumero atrapa polvo Bosque Verde electroestático', 'Paquete 1 ud.', '2,60 € /ud.', 'https://prod-mercadona.imgix.net/images/8cd7cecaa445a3915ef36886006c0904.jpg?fit=crop&h=300&w=300'], ['Plumero de avestruz extensible Bosque Verde', '1 ud.', '4,50 € /ud.', 'https://prod-mercadona.imgix.net/images/8cd7cecaa445a3915ef36886006c0904.jpg?fit=crop&h=300&w=300'], ['Limpiacristales con mango Bosque Verde', '1 ud.', '2,60 € /ud.', 'https://prod-mercadona.imgix.net/images/8cd7cecaa445a3915ef36886006c0904.jpg?fit=crop&h=300&w=300'], ['Pinzas de plástico Bosque Verde', 'Paquete 24 ud.', '0,69 € /ud.', 'https://prod-mercadona.imgix.net/images/8cd7cecaa445a3915ef36886006c0904.jpg?fit=crop&h=300&w=300']], [['Crema de calzado blanco autobrillante Bosque Verde con aplicador', 'Bote 50 ml', '0,95 € /ud.', 'https://prod-mercadona.imgix.net/images/a8517cc51a0236cfc85c3b7de6e2b6b3.jpg?fit=crop&h=300&w=300'], ['Crema de calzado marrón autobrillante Bosque Verde con aplicador', 'Bote 50 ml', '0,95 € /ud.', 'https://prod-mercadona.imgix.net/images/a8517cc51a0236cfc85c3b7de6e2b6b3.jpg?fit=crop&h=300&w=300'], ['Crema de calzado negro autobrillante Bosque Verde con aplicador', 'Bote 50 ml', '0,95 € /ud.', 'https://prod-mercadona.imgix.net/images/a8517cc51a0236cfc85c3b7de6e2b6b3.jpg?fit=crop&h=300&w=300'], ['Esponja de calzado incoloro brillo y protección Yak', '1 ud.', '1,50 € /ud.', 'https://prod-mercadona.imgix.net/images/a8517cc51a0236cfc85c3b7de6e2b6b3.jpg?fit=crop&h=300&w=300'], ['Desodorante de calzado Bosque Verde', 'Spray 250 ml', '2,95 € /ud.', 'https://prod-mercadona.imgix.net/images/a8517cc51a0236cfc85c3b7de6e2b6b3.jpg?fit=crop&h=300&w=300'], ['Cepillo calzado Bosque Verde', '1 ud.', '2,00 € /ud.', 'https://prod-mercadona.imgix.net/images/a8517cc51a0236cfc85c3b7de6e2b6b3.jpg?fit=crop&h=300&w=300']]]\n"
     ]
    }
   ],
   "source": [
    "\n",
    "# ONCE IN PRODUCT DISPLAY => RECORRER CADA PRODUCTO Y PINCHAR EN ÉL\n",
    "contenedor = driver.find_element(By.CLASS_NAME,\"category-detail__content\")\n",
    "contenedores_grupo = contenedor.find_elements(By.CLASS_NAME,\"product-container\")\n",
    "\n",
    "list_products = []\n",
    "list_empty = []\n",
    "\n",
    "for contenedor in contenedores_grupo:\n",
    "    product_container = contenedor.find_elements(By.CLASS_NAME,\"product-cell\")\n",
    "        \n",
    "    for product in product_container:\n",
    "        \n",
    "        product_image = contenedor.find_element(By.TAG_NAME,\"img\").get_attribute(\"src\")\n",
    "        product_array = product.text.split(\"\\n\")[:-1]\n",
    "        product_array.append(product_image)\n",
    "        \n",
    "    \n",
    "        # # OPEN PRODUCT\n",
    "        # open_product_buton = product.find_element(By.CLASS_NAME,\"product-cell__content-link\")\n",
    "        # open_product_buton.send_keys(Keys.ENTER)\n",
    "        # time.sleep(1)\n",
    "\n",
    "        # # ACCESS PRICE/KG/L\n",
    "        # clicked_product_container = driver.find_element(By.CLASS_NAME,\"modal-content\")\n",
    "        # get_price_per_unit = clicked_product_container.find_elements(By.CLASS_NAME,\"headline1-r\")[-1]\n",
    "\n",
    "        # # Format price:\n",
    "        # get_price_per_unit = get_price_per_unit.text.split(\" \")\n",
    "        # price_per_unit = float(get_price_per_unit[1].replace(\",\",\".\"))\n",
    "        # measure_per_unit = get_price_per_unit[2]\n",
    "\n",
    "        # # ADD PRICES AND UNITS\n",
    "        # product_array.append(price_per_unit)\n",
    "        # product_array.append(measure_per_unit)\n",
    "\n",
    "        # # CLOSE PRODUCT PREVIEW\n",
    "        # close_product_button = driver.find_element(By.CLASS_NAME,\"modal-content__close\") \n",
    "        # close_product_button.send_keys(Keys.ENTER)\n",
    "        # time.sleep(0.5)\n",
    "        \n",
    "        # ADD ALL PRODUCT INFO TO EMPTY ARRAY\n",
    "        list_empty.append(product_array)\n",
    "        \n",
    "\n",
    "    list_products.append(list_empty)\n",
    "    \n",
    "    list_empty = []\n",
    "    \n",
    "\n",
    "print(\"\\n----------------------\\n\")\n",
    "print(list_products)"
   ]
  },
  {
   "cell_type": "code",
   "execution_count": 544,
   "metadata": {},
   "outputs": [
    {
     "data": {
      "text/plain": [
       "2.667"
      ]
     },
     "execution_count": 544,
     "metadata": {},
     "output_type": "execute_result"
    }
   ],
   "source": [
    "price_to_format = \"| 2,667 €/L\"\n",
    "price_to_format = price_to_format.split(\" \")\n",
    "price_per_unit = float(price_to_format[1].replace(\",\",\".\"))\n",
    "measure_per_unit = price_to_format[2]\n",
    "\n"
   ]
  },
  {
   "cell_type": "code",
   "execution_count": 434,
   "metadata": {},
   "outputs": [
    {
     "name": "stdout",
     "output_type": "stream",
     "text": [
      "['Refresco al limón Nestea', '8 latas x 330 ml', '6,96 € /pack']\n",
      "['Refresco al limón Nestea', 'Lata 330 ml', '0,90 € /ud.']\n",
      "['Refresco al limón Nestea', 'Botella 1,5 L', '1,95 € /ud.']\n",
      "['Refresco té verde Hacendado', 'Botella 1,5 L', '1,05 € /ud.']\n",
      "['Refresco té sabor limón Hacendado cero', 'Botella 1,5 L', '0,95 € /ud.']\n",
      "['Refresco té sabor mango Hacendado cero', 'Botella 1,5 L', '1,05 € /ud.']\n",
      "['Refresco té sabor limón Hacendado', 'Botella 1,5 L', '0,95 € /ud.']\n",
      "['Refresco té sabor melocotón Hacendado cero', 'Botella 1,5 L', '0,95 € /ud.']\n",
      "['Refresco té con limón Hacendado para diluir', 'Caja 12 sobres (36 g)', '1,30 € /ud.']\n",
      "['Refresco té con melocotón Hacendado para diluir', 'Caja 12 sobres (36 g)', '1,30 € /ud.']\n",
      "_________________________\n",
      "\n",
      "['Limonada Don Simón light sin gas', 'Botella 2 L', '1,50 € /ud.']\n",
      "['Refresco de naranja Simon Life sin gas', 'Botella 1,5 L', '1,85 € /ud.']\n",
      "['Refresco de naranja Gold Spring sin gas', 'Botella 2 L', '1,30 € /ud.']\n",
      "['Refresco de naranja Gold Spring sin gas', '4 botellas x 330 ml', '1,50 € /pack']\n",
      "['Refresco fusión de frutas Gold Spring cero sin gas', 'Botella 2 L', '1,30 € /ud.']\n",
      "['Refresco de naranja Trina sin gas', 'Botella 1,5 L', '1,65 € /ud.']\n",
      "['Refresco Sunny Delight Florida sin gas', '4 botellas x 200 ml', '1,50 € /pack']\n",
      "['Bebida Florida Sunny Delight', 'Botella 1,25 L', '1,89 € /ud.']\n",
      "['Refresco de manzana sin gas', 'Botella 1,5 L', '1,00 € /ud.']\n",
      "['Refresco piña-coco Gold Spring cero sin gas', 'Botella 2 L', '1,30 € /ud.']\n",
      "['Agua de coco Chaokoh 100% natural', 'Brick 1 L', '2,60 € /ud.']\n",
      "['Refresco sandía Gold Spring cero sin gas', 'Botella 2 L', '1,30 € /ud.']\n",
      "['Refresco Caribe Gold Spring cero sin gas', 'Botella 2 L', '1,30 € /ud.']\n",
      "['Limonada Hacendado light sin gas', '4 botellas x 330 ml', '1,50 € /pack']\n",
      "_________________________\n",
      "\n"
     ]
    }
   ],
   "source": [
    "\n",
    "contenedor = driver.find_element(By.CLASS_NAME,\"category-detail__content\")\n",
    "longitud_contenedores_pequeños = len(contenedor.find_elements(By.CLASS_NAME,\"section\"))\n",
    "h2_contenedor = contenedor.find_elements(By.TAG_NAME,\"h2\")\n",
    "contenedores_grupo = contenedor.find_elements(By.CLASS_NAME,\"product-container\")\n",
    "# contenedor_producto = contenedores_grupo.find_element(By.CLASS_NAME,\"product-cell\")\n",
    "\n",
    "#root > div.grid-layout > div.grid-layout__main-container > div.grid-layout__content > div > div > section:nth-child(2) > div > div:nth-child(1)\n",
    "#root > div.grid-layout > div.grid-layout__main-container > div.grid-layout__content > div > div > section:nth-child(2) > div > div:nth-child(2)\n",
    "\n",
    "# for i in h2_contenedor:\n",
    "#     print(i.text)\n",
    "\n",
    "#print(contenedor.find_elements(By.CLASS_NAME,\"section\")[1].text)\n",
    "# print(contenedores_pequeños[0].text.split(\"\\n\")[1:])\n",
    "\n",
    "for i in contenedores_grupo:\n",
    "    chechu = i.find_elements(By.CLASS_NAME,\"product-cell\")\n",
    "\n",
    "    for x in chechu:\n",
    "        print(x.text.split(\"\\n\")[:-1])\n",
    "\n",
    "\n",
    "\n",
    "    # print(i.find_elements(By.CLASS_NAME,\"product-cell\")[1].text)\n",
    "    # print(i.text.split(\"\\n\"))\n",
    "    print(\"_________________________\\n\")"
   ]
  },
  {
   "cell_type": "code",
   "execution_count": 362,
   "metadata": {},
   "outputs": [
    {
     "name": "stdout",
     "output_type": "stream",
     "text": [
      "Aceite de oliva\n",
      "Aceite de girasol, semillas y maíz\n",
      "Vinagre y otros aderezos\n",
      "Sal y bicarbonato\n"
     ]
    }
   ],
   "source": [
    "\n",
    "# Coger todos los h2\n",
    "container_section_h2 = driver.find_elements(By.CSS_SELECTOR,\"#root > div.grid-layout > div.grid-layout__main-container > div.grid-layout__content > div > div > section > h2\")\n",
    "container_section_div = driver.find_elements(By.CSS_SELECTOR,\"#root > div.grid-layout > div.grid-layout__main-container > div.grid-layout__content > div > div > section > div\")\n",
    "\n",
    "for i in container_section_h2:\n",
    "    print(i.text)\n",
    "\n",
    "\n",
    "# for j in container_section_div:\n",
    "#     print(j.text.split(\"\\n\")[:-1])\n",
    "\n",
    "        \n",
    "\n",
    "\n",
    "# Recorre todos los productos de la página\n",
    "# container_section = driver.find_elements(By.CSS_SELECTOR,\"#root > div.grid-layout > div.grid-layout__main-container > div.grid-layout__content > div > div > section > div > div\")\n",
    "# for i in container_section:\n",
    "#     print(i.text.split(\"\\n\")[:-1])\n",
    "\n"
   ]
  },
  {
   "cell_type": "code",
   "execution_count": 162,
   "metadata": {},
   "outputs": [
    {
     "name": "stdout",
     "output_type": "stream",
     "text": [
      "['Aceite, especias y salsas', 'Agua y refrescos', 'Aperitivos', 'Arroz, legumbres y pasta', 'Azúcar, caramelos y chocolate', 'Bebé', 'Bodega', 'Cacao, café e infusiones', 'Carne', 'Cereales y galletas', 'Charcutería y quesos', 'Congelados', 'Conservas, caldos y cremas', 'Cuidado del cabello', 'Cuidado facial y corporal', 'Fitoterapia y parafarmacia', 'Fruta y verdura', 'Huevos, leche y mantequilla', 'Limpieza y hogar', 'Maquillaje', 'Marisco y pescado', 'Mascotas', 'Panadería y pastelería', 'Pizzas y platos preparados', 'Postres y yogures', 'Zumos']\n",
      "Tenemos 26 categorias\n"
     ]
    }
   ],
   "source": [
    "# Iteramos sobre el menu:\n",
    "menu_alimentos = driver.find_elements(By.CLASS_NAME,\"category-menu__header\")\n",
    "\n",
    "categorias = []\n",
    "\n",
    "# Cogemos todas las categorías que tiene la página web.\n",
    "# Si mañana se modifica/añade/elimina categoría queremos que siempre se pueda recorrer\n",
    "for menu in menu_alimentos:\n",
    "    categorias.append(menu.text)\n",
    "    botones = driver.find_element(By.TAG_NAME, \"button\")\n",
    "\n",
    "print(categorias)\n",
    "print(\"Tenemos\",len(categorias),\"categorias\")"
   ]
  },
  {
   "cell_type": "code",
   "execution_count": 214,
   "metadata": {},
   "outputs": [
    {
     "name": "stdout",
     "output_type": "stream",
     "text": [
      "26\n"
     ]
    }
   ],
   "source": [
    "headers = driver.find_elements(By.CLASS_NAME,\"category-menu__item\")\n",
    "\n",
    "print(len(headers))"
   ]
  },
  {
   "cell_type": "code",
   "execution_count": 261,
   "metadata": {},
   "outputs": [
    {
     "name": "stdout",
     "output_type": "stream",
     "text": [
      "[['Aceite, vinagre y sal', 'Especias', 'Mayonesa, ketchup y mostaza', 'Otras salsas'], ['Agua', 'Isotónico y energético', 'Refresco de cola', 'Refresco de naranja y de limón', 'Tónica y bitter', 'Refresco de té y sin gas']]\n"
     ]
    }
   ],
   "source": [
    "# Pincha sobre todos los headers de categorías\n",
    "\n",
    "#root > div.grid-layout > divgrid-layout__sidebar > ul > li:nth-child(26)\n",
    "\n",
    "# Total categories length:\n",
    "total_categories_length = len(driver.find_elements(By.CLASS_NAME,\"category-menu__item\"))\n",
    "numero_headers = range(1,3)\n",
    "\n",
    "categorias = []\n",
    "sub_categorias = []\n",
    "\n",
    "\n",
    "for num in numero_headers:\n",
    "    \n",
    "    header_a_pinchar = driver.find_elements(By.CSS_SELECTOR,f\"#root > div.grid-layout > div.grid-layout__sidebar > ul > li:nth-child({num}) > div > button\")\n",
    "\n",
    "    # CATEGORÍAS:\n",
    "    categorias.append(header_a_pinchar[0].text)\n",
    "    header_a_pinchar[0].click()\n",
    "\n",
    "    # SUB_HEADERS:\n",
    "    selection = driver.find_elements(By.CSS_SELECTOR,\"#root > div.grid-layout > div.grid-layout__sidebar > ul > li.category-menu__item.open > div > ul\")\n",
    "\n",
    "    selection[0].click()\n",
    "    time.sleep(round(random.uniform(0.5,3),1))\n",
    "    sub_categorias.append(selection[0].text.split('\\n'))\n",
    "\n",
    "\n",
    "    time.sleep(round(random.uniform(0.5,3),1))\n",
    "\n",
    "print(sub_categorias)"
   ]
  },
  {
   "cell_type": "code",
   "execution_count": 264,
   "metadata": {},
   "outputs": [
    {
     "name": "stdout",
     "output_type": "stream",
     "text": [
      "Aceite, vinagre y sal\n"
     ]
    },
    {
     "data": {
      "text/plain": [
       "['Aceite, vinagre y sal',\n",
       " 'Especias',\n",
       " 'Mayonesa, ketchup y mostaza',\n",
       " 'Otras salsas']"
      ]
     },
     "execution_count": 264,
     "metadata": {},
     "output_type": "execute_result"
    }
   ],
   "source": [
    "#root > div.grid-layout > div.grid-layout__sidebar > ul > li.category-menu__item.open > div > ul\n",
    "\n",
    "\n",
    "selection = driver.find_elements(By.CSS_SELECTOR,\"#root > div.grid-layout > div.grid-layout__sidebar > ul > li.category-menu__item.open > div > ul\")\n",
    "sub_button = driver.find_elements(By.CSS_SELECTOR, \"#root > div.grid-layout > div.grid-layout__sidebar > ul > li.category-menu__item.open > div > ul > li.subhead1-r.category-item.category-item--selected > button\")\n",
    "\n",
    "print(sub_button[0].text)\n",
    "sub_button[1].click()\n",
    "\n",
    "selection[0].text.split('\\n')\n",
    "\n",
    "\n"
   ]
  },
  {
   "cell_type": "code",
   "execution_count": 301,
   "metadata": {},
   "outputs": [
    {
     "name": "stdout",
     "output_type": "stream",
     "text": [
      "1\n",
      "2\n",
      "3\n",
      "4\n",
      "5\n"
     ]
    }
   ],
   "source": [
    "\n",
    "category_opened_array = driver.find_elements(By.CSS_SELECTOR,\"#root > div.grid-layout > div.grid-layout__sidebar > ul > li.category-menu__item.open > div > ul\")\n",
    "\n",
    "category_opened_array_length = len(category_opened_array[0].text.split(\"\\n\"))\n",
    "\n",
    "number_of_sub_headers = range(1,category_opened_array_length+1)\n",
    "\n",
    "\n",
    "# Recorre todos los botones dentro de las categorías.\n",
    "sub_header_button = driver.find_elements(By.CSS_SELECTOR,\"#root > div.grid-layout > div.grid-layout__sidebar > ul > li.category-menu__item.open > div > ul > li:nth-child(1) > button\")\n",
    "\n",
    "for i in number_of_sub_headers:\n",
    "\n",
    "    sub_header_button = driver.find_elements(By.CSS_SELECTOR,f\"#root > div.grid-layout > div.grid-layout__sidebar > ul > li.category-menu__item.open > div > ul > li:nth-child({i}) > button\")\n",
    "    sub_header_button[0].click()\n",
    "    time.sleep(1)\n"
   ]
  },
  {
   "cell_type": "code",
   "execution_count": null,
   "metadata": {},
   "outputs": [
    {
     "name": "stdout",
     "output_type": "stream",
     "text": [
      "Aceite, especias y salsas\n",
      "Aceite, vinagre y sal\n",
      "Especias\n",
      "Mayonesa, ketchup y mostaza\n",
      "Otras salsas\n"
     ]
    },
    {
     "data": {
      "text/plain": [
       "list"
      ]
     },
     "execution_count": 123,
     "metadata": {},
     "output_type": "execute_result"
    }
   ],
   "source": [
    "# Vamos a intentar recorrer en categoría Aceite, especias y salsas todas las sub-categorías\n",
    "categoria_abierta = driver.find_elements(By.CLASS_NAME,\"category-menu__item.open\")\n",
    "\n",
    "sub_categorias = []\n",
    "\n",
    "for categoria in categoria_abierta:\n",
    "    li = driver.find_element(By.TAG_NAME, \"li\")\n",
    "    sub_categorias.append(li.text)\n",
    "    print(li.text)\n",
    "\n"
   ]
  },
  {
   "cell_type": "code",
   "execution_count": null,
   "metadata": {},
   "outputs": [],
   "source": []
  }
 ],
 "metadata": {
  "interpreter": {
   "hash": "bcdc425d517deb9e216693a9add6673374e5d52249ad1f984c9f7bda525a095e"
  },
  "kernelspec": {
   "display_name": "Python 3.9.13 ('base')",
   "language": "python",
   "name": "python3"
  },
  "language_info": {
   "codemirror_mode": {
    "name": "ipython",
    "version": 3
   },
   "file_extension": ".py",
   "mimetype": "text/x-python",
   "name": "python",
   "nbconvert_exporter": "python",
   "pygments_lexer": "ipython3",
   "version": "3.9.13"
  },
  "orig_nbformat": 4
 },
 "nbformat": 4,
 "nbformat_minor": 2
}
